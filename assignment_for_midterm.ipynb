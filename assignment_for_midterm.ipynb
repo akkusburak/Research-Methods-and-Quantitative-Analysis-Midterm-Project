{
 "cells": [
  {
   "cell_type": "markdown",
   "metadata": {},
   "source": [
    "## FASHION DATASET \n",
    "### DATA ANALYSIS BY BURAK AKKUŞ\n",
    "\n",
    "First of  all, I am starting with import fundemantals libraries which will use in analysis."
   ]
  },
  {
   "cell_type": "code",
   "execution_count": 1,
   "metadata": {},
   "outputs": [],
   "source": [
    "import pandas as pd\n",
    "import matplotlib.pyplot as plt\n",
    "import numpy as np\n",
    "import seaborn as sns\n",
    "import statsmodels.api as sm\n",
    "from patsy import dmatrices\n",
    "from sklearn.linear_model import LinearRegression\n",
    "import sklearn\n",
    "%matplotlib inline\n",
    "sns.set_style(\"whitegrid\")"
   ]
  },
  {
   "cell_type": "code",
   "execution_count": 2,
   "metadata": {},
   "outputs": [],
   "source": [
    "df = pd.read_csv(\"Fashion.csv\")"
   ]
  },
  {
   "cell_type": "markdown",
   "metadata": {},
   "source": [
    "Then, I defined the dataframe already downloaded locally.  \n",
    "Let's quick check on data."
   ]
  },
  {
   "cell_type": "code",
   "execution_count": 3,
   "metadata": {},
   "outputs": [
    {
     "data": {
      "text/html": [
       "<div>\n",
       "<style scoped>\n",
       "    .dataframe tbody tr th:only-of-type {\n",
       "        vertical-align: middle;\n",
       "    }\n",
       "\n",
       "    .dataframe tbody tr th {\n",
       "        vertical-align: top;\n",
       "    }\n",
       "\n",
       "    .dataframe thead th {\n",
       "        text-align: right;\n",
       "    }\n",
       "</style>\n",
       "<table border=\"1\" class=\"dataframe\">\n",
       "  <thead>\n",
       "    <tr style=\"text-align: right;\">\n",
       "      <th></th>\n",
       "      <th>Date</th>\n",
       "      <th>NoProducts</th>\n",
       "      <th>Discount</th>\n",
       "      <th>Rain</th>\n",
       "      <th>Weekend</th>\n",
       "      <th>Gender</th>\n",
       "      <th>Advertising</th>\n",
       "      <th>BegMonth</th>\n",
       "      <th>Region</th>\n",
       "      <th>DeliveryComp</th>\n",
       "      <th>DeliveryTime</th>\n",
       "      <th>Rating_DeliveryComp</th>\n",
       "      <th>CustomerSatisfaction</th>\n",
       "      <th>PricePerProduct</th>\n",
       "      <th>Revenue</th>\n",
       "    </tr>\n",
       "  </thead>\n",
       "  <tbody>\n",
       "    <tr>\n",
       "      <th>0</th>\n",
       "      <td>2007-09-04 09:00:00</td>\n",
       "      <td>5</td>\n",
       "      <td>False</td>\n",
       "      <td>False</td>\n",
       "      <td>False</td>\n",
       "      <td>w</td>\n",
       "      <td>low</td>\n",
       "      <td>True</td>\n",
       "      <td>3</td>\n",
       "      <td>Hermes</td>\n",
       "      <td>42</td>\n",
       "      <td>3</td>\n",
       "      <td>72</td>\n",
       "      <td>33.522730</td>\n",
       "      <td>167.613652</td>\n",
       "    </tr>\n",
       "    <tr>\n",
       "      <th>1</th>\n",
       "      <td>2007-09-04 10:00:00</td>\n",
       "      <td>5</td>\n",
       "      <td>False</td>\n",
       "      <td>False</td>\n",
       "      <td>False</td>\n",
       "      <td>w</td>\n",
       "      <td>low</td>\n",
       "      <td>True</td>\n",
       "      <td>1</td>\n",
       "      <td>Hermes</td>\n",
       "      <td>44</td>\n",
       "      <td>4</td>\n",
       "      <td>84</td>\n",
       "      <td>102.473666</td>\n",
       "      <td>512.368331</td>\n",
       "    </tr>\n",
       "    <tr>\n",
       "      <th>2</th>\n",
       "      <td>2007-09-04 11:00:00</td>\n",
       "      <td>5</td>\n",
       "      <td>False</td>\n",
       "      <td>False</td>\n",
       "      <td>False</td>\n",
       "      <td>m</td>\n",
       "      <td>low</td>\n",
       "      <td>True</td>\n",
       "      <td>3</td>\n",
       "      <td>Hermes</td>\n",
       "      <td>36</td>\n",
       "      <td>1</td>\n",
       "      <td>46</td>\n",
       "      <td>31.633812</td>\n",
       "      <td>158.169062</td>\n",
       "    </tr>\n",
       "    <tr>\n",
       "      <th>3</th>\n",
       "      <td>2007-09-04 12:00:00</td>\n",
       "      <td>5</td>\n",
       "      <td>False</td>\n",
       "      <td>True</td>\n",
       "      <td>False</td>\n",
       "      <td>m</td>\n",
       "      <td>low</td>\n",
       "      <td>True</td>\n",
       "      <td>3</td>\n",
       "      <td>DHL</td>\n",
       "      <td>35</td>\n",
       "      <td>3</td>\n",
       "      <td>65</td>\n",
       "      <td>30.208402</td>\n",
       "      <td>151.042008</td>\n",
       "    </tr>\n",
       "    <tr>\n",
       "      <th>4</th>\n",
       "      <td>2007-09-04 13:00:00</td>\n",
       "      <td>5</td>\n",
       "      <td>False</td>\n",
       "      <td>False</td>\n",
       "      <td>False</td>\n",
       "      <td>w</td>\n",
       "      <td>low</td>\n",
       "      <td>True</td>\n",
       "      <td>1</td>\n",
       "      <td>Hermes</td>\n",
       "      <td>41</td>\n",
       "      <td>5</td>\n",
       "      <td>91</td>\n",
       "      <td>103.604277</td>\n",
       "      <td>518.021384</td>\n",
       "    </tr>\n",
       "  </tbody>\n",
       "</table>\n",
       "</div>"
      ],
      "text/plain": [
       "                  Date  NoProducts  Discount   Rain  Weekend Gender  \\\n",
       "0  2007-09-04 09:00:00           5     False  False    False      w   \n",
       "1  2007-09-04 10:00:00           5     False  False    False      w   \n",
       "2  2007-09-04 11:00:00           5     False  False    False      m   \n",
       "3  2007-09-04 12:00:00           5     False   True    False      m   \n",
       "4  2007-09-04 13:00:00           5     False  False    False      w   \n",
       "\n",
       "  Advertising  BegMonth  Region DeliveryComp  DeliveryTime  \\\n",
       "0         low      True       3       Hermes            42   \n",
       "1         low      True       1       Hermes            44   \n",
       "2         low      True       3       Hermes            36   \n",
       "3         low      True       3          DHL            35   \n",
       "4         low      True       1       Hermes            41   \n",
       "\n",
       "   Rating_DeliveryComp  CustomerSatisfaction  PricePerProduct     Revenue  \n",
       "0                    3                    72        33.522730  167.613652  \n",
       "1                    4                    84       102.473666  512.368331  \n",
       "2                    1                    46        31.633812  158.169062  \n",
       "3                    3                    65        30.208402  151.042008  \n",
       "4                    5                    91       103.604277  518.021384  "
      ]
     },
     "execution_count": 3,
     "metadata": {},
     "output_type": "execute_result"
    }
   ],
   "source": [
    "df.head()"
   ]
  },
  {
   "cell_type": "code",
   "execution_count": 4,
   "metadata": {},
   "outputs": [
    {
     "data": {
      "text/html": [
       "<div>\n",
       "<style scoped>\n",
       "    .dataframe tbody tr th:only-of-type {\n",
       "        vertical-align: middle;\n",
       "    }\n",
       "\n",
       "    .dataframe tbody tr th {\n",
       "        vertical-align: top;\n",
       "    }\n",
       "\n",
       "    .dataframe thead th {\n",
       "        text-align: right;\n",
       "    }\n",
       "</style>\n",
       "<table border=\"1\" class=\"dataframe\">\n",
       "  <thead>\n",
       "    <tr style=\"text-align: right;\">\n",
       "      <th></th>\n",
       "      <th>NoProducts</th>\n",
       "      <th>Region</th>\n",
       "      <th>DeliveryTime</th>\n",
       "      <th>Rating_DeliveryComp</th>\n",
       "      <th>CustomerSatisfaction</th>\n",
       "      <th>PricePerProduct</th>\n",
       "      <th>Revenue</th>\n",
       "    </tr>\n",
       "  </thead>\n",
       "  <tbody>\n",
       "    <tr>\n",
       "      <th>count</th>\n",
       "      <td>100000.000000</td>\n",
       "      <td>100000.000000</td>\n",
       "      <td>100000.000000</td>\n",
       "      <td>100000.000000</td>\n",
       "      <td>100000.00000</td>\n",
       "      <td>100000.000000</td>\n",
       "      <td>100000.000000</td>\n",
       "    </tr>\n",
       "    <tr>\n",
       "      <th>mean</th>\n",
       "      <td>4.430770</td>\n",
       "      <td>2.604070</td>\n",
       "      <td>36.619270</td>\n",
       "      <td>3.322010</td>\n",
       "      <td>69.83937</td>\n",
       "      <td>52.304033</td>\n",
       "      <td>231.502542</td>\n",
       "    </tr>\n",
       "    <tr>\n",
       "      <th>std</th>\n",
       "      <td>2.406841</td>\n",
       "      <td>1.198876</td>\n",
       "      <td>3.945039</td>\n",
       "      <td>1.176509</td>\n",
       "      <td>12.12593</td>\n",
       "      <td>26.121475</td>\n",
       "      <td>181.187502</td>\n",
       "    </tr>\n",
       "    <tr>\n",
       "      <th>min</th>\n",
       "      <td>3.000000</td>\n",
       "      <td>1.000000</td>\n",
       "      <td>30.000000</td>\n",
       "      <td>1.000000</td>\n",
       "      <td>40.00000</td>\n",
       "      <td>29.990109</td>\n",
       "      <td>89.971242</td>\n",
       "    </tr>\n",
       "    <tr>\n",
       "      <th>25%</th>\n",
       "      <td>3.000000</td>\n",
       "      <td>2.000000</td>\n",
       "      <td>34.000000</td>\n",
       "      <td>3.000000</td>\n",
       "      <td>63.00000</td>\n",
       "      <td>31.943650</td>\n",
       "      <td>100.225845</td>\n",
       "    </tr>\n",
       "    <tr>\n",
       "      <th>50%</th>\n",
       "      <td>3.000000</td>\n",
       "      <td>3.000000</td>\n",
       "      <td>36.000000</td>\n",
       "      <td>3.000000</td>\n",
       "      <td>72.00000</td>\n",
       "      <td>33.463548</td>\n",
       "      <td>160.612290</td>\n",
       "    </tr>\n",
       "    <tr>\n",
       "      <th>75%</th>\n",
       "      <td>5.000000</td>\n",
       "      <td>4.000000</td>\n",
       "      <td>39.000000</td>\n",
       "      <td>4.000000</td>\n",
       "      <td>77.00000</td>\n",
       "      <td>80.959985</td>\n",
       "      <td>268.045610</td>\n",
       "    </tr>\n",
       "    <tr>\n",
       "      <th>max</th>\n",
       "      <td>18.000000</td>\n",
       "      <td>4.000000</td>\n",
       "      <td>54.000000</td>\n",
       "      <td>5.000000</td>\n",
       "      <td>103.00000</td>\n",
       "      <td>113.689028</td>\n",
       "      <td>2012.220729</td>\n",
       "    </tr>\n",
       "  </tbody>\n",
       "</table>\n",
       "</div>"
      ],
      "text/plain": [
       "          NoProducts         Region   DeliveryTime  Rating_DeliveryComp  \\\n",
       "count  100000.000000  100000.000000  100000.000000        100000.000000   \n",
       "mean        4.430770       2.604070      36.619270             3.322010   \n",
       "std         2.406841       1.198876       3.945039             1.176509   \n",
       "min         3.000000       1.000000      30.000000             1.000000   \n",
       "25%         3.000000       2.000000      34.000000             3.000000   \n",
       "50%         3.000000       3.000000      36.000000             3.000000   \n",
       "75%         5.000000       4.000000      39.000000             4.000000   \n",
       "max        18.000000       4.000000      54.000000             5.000000   \n",
       "\n",
       "       CustomerSatisfaction  PricePerProduct        Revenue  \n",
       "count          100000.00000    100000.000000  100000.000000  \n",
       "mean               69.83937        52.304033     231.502542  \n",
       "std                12.12593        26.121475     181.187502  \n",
       "min                40.00000        29.990109      89.971242  \n",
       "25%                63.00000        31.943650     100.225845  \n",
       "50%                72.00000        33.463548     160.612290  \n",
       "75%                77.00000        80.959985     268.045610  \n",
       "max               103.00000       113.689028    2012.220729  "
      ]
     },
     "execution_count": 4,
     "metadata": {},
     "output_type": "execute_result"
    }
   ],
   "source": [
    "df.describe()"
   ]
  },
  {
   "cell_type": "markdown",
   "metadata": {},
   "source": [
    "Output is showing important number. We can see the average *delivery time*, *customer satisfaction*, *price per product* and *revenue*.\n",
    "- **DeliveryTime:** It is important to shown time it took from ordering until delivery.\n",
    "- **Rating_DeliveryComp:** It is also precious data for understating the quality of delivery.\n",
    "\n",
    "I think these two data have correlation witch each other. People will be more satisfy when their delivery occurs in time."
   ]
  },
  {
   "cell_type": "code",
   "execution_count": 5,
   "metadata": {},
   "outputs": [
    {
     "data": {
      "text/plain": [
       "array(['Hermes', 'DHL', 'EFashion Own'], dtype=object)"
      ]
     },
     "execution_count": 5,
     "metadata": {},
     "output_type": "execute_result"
    }
   ],
   "source": [
    "df[\"DeliveryComp\"].unique()"
   ]
  },
  {
   "cell_type": "markdown",
   "metadata": {},
   "source": [
    "I checked how many companies do work with E-Fashion. There are 3 companies, one of them belongs E-Fashion.  \n",
    "Then, I am going to examine delivery companies for better understanding due to delivery time and rating."
   ]
  },
  {
   "cell_type": "code",
   "execution_count": 6,
   "metadata": {},
   "outputs": [
    {
     "data": {
      "text/html": [
       "<div>\n",
       "<style scoped>\n",
       "    .dataframe tbody tr th:only-of-type {\n",
       "        vertical-align: middle;\n",
       "    }\n",
       "\n",
       "    .dataframe tbody tr th {\n",
       "        vertical-align: top;\n",
       "    }\n",
       "\n",
       "    .dataframe thead th {\n",
       "        text-align: right;\n",
       "    }\n",
       "</style>\n",
       "<table border=\"1\" class=\"dataframe\">\n",
       "  <thead>\n",
       "    <tr style=\"text-align: right;\">\n",
       "      <th></th>\n",
       "      <th>DeliveryTime</th>\n",
       "      <th>CustomerSatisfaction</th>\n",
       "      <th>Rating_DeliveryComp</th>\n",
       "    </tr>\n",
       "    <tr>\n",
       "      <th>DeliveryComp</th>\n",
       "      <th></th>\n",
       "      <th></th>\n",
       "      <th></th>\n",
       "    </tr>\n",
       "  </thead>\n",
       "  <tbody>\n",
       "    <tr>\n",
       "      <th>DHL</th>\n",
       "      <td>35.013316</td>\n",
       "      <td>72.495425</td>\n",
       "      <td>3.748211</td>\n",
       "    </tr>\n",
       "    <tr>\n",
       "      <th>EFashion Own</th>\n",
       "      <td>30.990447</td>\n",
       "      <td>55.898511</td>\n",
       "      <td>2.490806</td>\n",
       "    </tr>\n",
       "    <tr>\n",
       "      <th>Hermes</th>\n",
       "      <td>39.994813</td>\n",
       "      <td>69.901047</td>\n",
       "      <td>2.990623</td>\n",
       "    </tr>\n",
       "  </tbody>\n",
       "</table>\n",
       "</div>"
      ],
      "text/plain": [
       "              DeliveryTime  CustomerSatisfaction  Rating_DeliveryComp\n",
       "DeliveryComp                                                         \n",
       "DHL              35.013316             72.495425             3.748211\n",
       "EFashion Own     30.990447             55.898511             2.490806\n",
       "Hermes           39.994813             69.901047             2.990623"
      ]
     },
     "execution_count": 6,
     "metadata": {},
     "output_type": "execute_result"
    }
   ],
   "source": [
    "df.groupby(by=\"DeliveryComp\")[[\"DeliveryTime\",\"CustomerSatisfaction\",\"Rating_DeliveryComp\"]].mean()"
   ]
  },
  {
   "cell_type": "markdown",
   "metadata": {},
   "source": [
    "I have also checked customer satisfaction because delivery time may also affect on it. Firstly, I calculated the average of variables to get knowledge is there any relation between them. After that, I checked correlation."
   ]
  },
  {
   "cell_type": "code",
   "execution_count": 7,
   "metadata": {
    "scrolled": true
   },
   "outputs": [
    {
     "data": {
      "text/html": [
       "<div>\n",
       "<style scoped>\n",
       "    .dataframe tbody tr th:only-of-type {\n",
       "        vertical-align: middle;\n",
       "    }\n",
       "\n",
       "    .dataframe tbody tr th {\n",
       "        vertical-align: top;\n",
       "    }\n",
       "\n",
       "    .dataframe thead th {\n",
       "        text-align: right;\n",
       "    }\n",
       "</style>\n",
       "<table border=\"1\" class=\"dataframe\">\n",
       "  <thead>\n",
       "    <tr style=\"text-align: right;\">\n",
       "      <th></th>\n",
       "      <th>DeliveryTime</th>\n",
       "      <th>CustomerSatisfaction</th>\n",
       "      <th>Rating_DeliveryComp</th>\n",
       "    </tr>\n",
       "  </thead>\n",
       "  <tbody>\n",
       "    <tr>\n",
       "      <th>DeliveryTime</th>\n",
       "      <td>1.000000</td>\n",
       "      <td>0.252775</td>\n",
       "      <td>-0.074789</td>\n",
       "    </tr>\n",
       "    <tr>\n",
       "      <th>CustomerSatisfaction</th>\n",
       "      <td>0.252775</td>\n",
       "      <td>1.000000</td>\n",
       "      <td>0.945910</td>\n",
       "    </tr>\n",
       "    <tr>\n",
       "      <th>Rating_DeliveryComp</th>\n",
       "      <td>-0.074789</td>\n",
       "      <td>0.945910</td>\n",
       "      <td>1.000000</td>\n",
       "    </tr>\n",
       "  </tbody>\n",
       "</table>\n",
       "</div>"
      ],
      "text/plain": [
       "                      DeliveryTime  CustomerSatisfaction  Rating_DeliveryComp\n",
       "DeliveryTime              1.000000              0.252775            -0.074789\n",
       "CustomerSatisfaction      0.252775              1.000000             0.945910\n",
       "Rating_DeliveryComp      -0.074789              0.945910             1.000000"
      ]
     },
     "execution_count": 7,
     "metadata": {},
     "output_type": "execute_result"
    }
   ],
   "source": [
    "df[[\"DeliveryTime\",\"CustomerSatisfaction\",\"Rating_DeliveryComp\"]].corr()"
   ]
  },
  {
   "cell_type": "markdown",
   "metadata": {},
   "source": [
    "As I thought, delivery time and rating have negative correlation, but it is not significant. It is anticipated for me, probably problems was caused ratings system. People can rate delivery companies in narrow range just 1 to 5. I think, it restricted the data. Narrower rating range do not create explanatory result. In real, people will be happier if their orders came in time. So, their ratings should be higher when delivery time is quicker. On the other hand, if we look correlation between customer satisfaction and rating delivery company, there is significant relations between them. There is also positive relationship between delivery time and customer satisfaction. What is that meaning? So, customers do not time-sensitive, do they? Is it simple as that? If they happy with what they order, they also gave higher rating to delivery company. I should go deeper to understand what customers satisfaction and rating is driven."
   ]
  },
  {
   "cell_type": "code",
   "execution_count": 8,
   "metadata": {},
   "outputs": [
    {
     "data": {
      "text/plain": [
       "<seaborn.axisgrid.FacetGrid at 0x17682775910>"
      ]
     },
     "execution_count": 8,
     "metadata": {},
     "output_type": "execute_result"
    },
    {
     "data": {
      "image/png": "[encoded data removed]",
      "text/plain": [
       "<Figure size 360x360 with 1 Axes>"
      ]
     },
     "metadata": {},
     "output_type": "display_data"
    }
   ],
   "source": [
    "sns.lmplot(x=\"Rating_DeliveryComp\", y=\"CustomerSatisfaction\", data=df, x_estimator=np.mean)"
   ]
  },
  {
   "cell_type": "markdown",
   "metadata": {},
   "source": [
    "I want to check if there is any change when I grouped the data by delivery company."
   ]
  },
  {
   "cell_type": "code",
   "execution_count": 9,
   "metadata": {
    "scrolled": true
   },
   "outputs": [
    {
     "data": {
      "text/html": [
       "<div>\n",
       "<style scoped>\n",
       "    .dataframe tbody tr th:only-of-type {\n",
       "        vertical-align: middle;\n",
       "    }\n",
       "\n",
       "    .dataframe tbody tr th {\n",
       "        vertical-align: top;\n",
       "    }\n",
       "\n",
       "    .dataframe thead th {\n",
       "        text-align: right;\n",
       "    }\n",
       "</style>\n",
       "<table border=\"1\" class=\"dataframe\">\n",
       "  <thead>\n",
       "    <tr style=\"text-align: right;\">\n",
       "      <th></th>\n",
       "      <th></th>\n",
       "      <th>DeliveryTime</th>\n",
       "      <th>CustomerSatisfaction</th>\n",
       "      <th>Rating_DeliveryComp</th>\n",
       "    </tr>\n",
       "    <tr>\n",
       "      <th>DeliveryComp</th>\n",
       "      <th></th>\n",
       "      <th></th>\n",
       "      <th></th>\n",
       "      <th></th>\n",
       "    </tr>\n",
       "  </thead>\n",
       "  <tbody>\n",
       "    <tr>\n",
       "      <th rowspan=\"3\" valign=\"top\">DHL</th>\n",
       "      <th>DeliveryTime</th>\n",
       "      <td>1.000000</td>\n",
       "      <td>0.215115</td>\n",
       "      <td>-0.005518</td>\n",
       "    </tr>\n",
       "    <tr>\n",
       "      <th>CustomerSatisfaction</th>\n",
       "      <td>0.215115</td>\n",
       "      <td>1.000000</td>\n",
       "      <td>0.975387</td>\n",
       "    </tr>\n",
       "    <tr>\n",
       "      <th>Rating_DeliveryComp</th>\n",
       "      <td>-0.005518</td>\n",
       "      <td>0.975387</td>\n",
       "      <td>1.000000</td>\n",
       "    </tr>\n",
       "    <tr>\n",
       "      <th rowspan=\"3\" valign=\"top\">EFashion Own</th>\n",
       "      <th>DeliveryTime</th>\n",
       "      <td>1.000000</td>\n",
       "      <td>0.068440</td>\n",
       "      <td>-0.000746</td>\n",
       "    </tr>\n",
       "    <tr>\n",
       "      <th>CustomerSatisfaction</th>\n",
       "      <td>0.068440</td>\n",
       "      <td>1.000000</td>\n",
       "      <td>0.997604</td>\n",
       "    </tr>\n",
       "    <tr>\n",
       "      <th>Rating_DeliveryComp</th>\n",
       "      <td>-0.000746</td>\n",
       "      <td>0.997604</td>\n",
       "      <td>1.000000</td>\n",
       "    </tr>\n",
       "    <tr>\n",
       "      <th rowspan=\"3\" valign=\"top\">Hermes</th>\n",
       "      <th>DeliveryTime</th>\n",
       "      <td>1.000000</td>\n",
       "      <td>0.272866</td>\n",
       "      <td>-0.003150</td>\n",
       "    </tr>\n",
       "    <tr>\n",
       "      <th>CustomerSatisfaction</th>\n",
       "      <td>0.272866</td>\n",
       "      <td>1.000000</td>\n",
       "      <td>0.961188</td>\n",
       "    </tr>\n",
       "    <tr>\n",
       "      <th>Rating_DeliveryComp</th>\n",
       "      <td>-0.003150</td>\n",
       "      <td>0.961188</td>\n",
       "      <td>1.000000</td>\n",
       "    </tr>\n",
       "  </tbody>\n",
       "</table>\n",
       "</div>"
      ],
      "text/plain": [
       "                                   DeliveryTime  CustomerSatisfaction  \\\n",
       "DeliveryComp                                                            \n",
       "DHL          DeliveryTime              1.000000              0.215115   \n",
       "             CustomerSatisfaction      0.215115              1.000000   \n",
       "             Rating_DeliveryComp      -0.005518              0.975387   \n",
       "EFashion Own DeliveryTime              1.000000              0.068440   \n",
       "             CustomerSatisfaction      0.068440              1.000000   \n",
       "             Rating_DeliveryComp      -0.000746              0.997604   \n",
       "Hermes       DeliveryTime              1.000000              0.272866   \n",
       "             CustomerSatisfaction      0.272866              1.000000   \n",
       "             Rating_DeliveryComp      -0.003150              0.961188   \n",
       "\n",
       "                                   Rating_DeliveryComp  \n",
       "DeliveryComp                                            \n",
       "DHL          DeliveryTime                    -0.005518  \n",
       "             CustomerSatisfaction             0.975387  \n",
       "             Rating_DeliveryComp              1.000000  \n",
       "EFashion Own DeliveryTime                    -0.000746  \n",
       "             CustomerSatisfaction             0.997604  \n",
       "             Rating_DeliveryComp              1.000000  \n",
       "Hermes       DeliveryTime                    -0.003150  \n",
       "             CustomerSatisfaction             0.961188  \n",
       "             Rating_DeliveryComp              1.000000  "
      ]
     },
     "execution_count": 9,
     "metadata": {},
     "output_type": "execute_result"
    }
   ],
   "source": [
    "df.groupby(by=\"DeliveryComp\")[[\"DeliveryTime\",\"CustomerSatisfaction\",\"Rating_DeliveryComp\"]].corr()"
   ]
  },
  {
   "cell_type": "markdown",
   "metadata": {},
   "source": [
    "It supports general result I found. Furthermore, I can observe that DHL and Hermes have more affect on customer satisfaction according to delivery time.  \n",
    "However, I need more variables to understand customer satisfaction. I have checked relationship of three variables, and now I am going to analyse other variables in correlation perspective. It will give me brief information about dataset. First of all, I need to turn gender and advertising columns into numerical values, by this way computer can understand them."
   ]
  },
  {
   "cell_type": "code",
   "execution_count": 10,
   "metadata": {},
   "outputs": [
    {
     "data": {
      "text/plain": [
       "<AxesSubplot:>"
      ]
     },
     "execution_count": 10,
     "metadata": {},
     "output_type": "execute_result"
    },
    {
     "data": {
      "image/png": "[encoded data removed]",
      "text/plain": [
       "<Figure size 1080x504 with 2 Axes>"
      ]
     },
     "metadata": {},
     "output_type": "display_data"
    }
   ],
   "source": [
    "plt.figure(figsize=(15,7))\n",
    "sns.heatmap(pd.get_dummies(data=df,columns=[\"Gender\", \"Advertising\"], drop_first=True).corr(), annot=True)"
   ]
  },
  {
   "cell_type": "markdown",
   "metadata": {},
   "source": [
    "What should we understand with this map?\n",
    "- Revenue and number of products have significant relations, and it is natural. Increase in number of products means that higher return.\n",
    "- People tend to buy more in weekend and rainy day. Also, we can observe that purchase in beginning of mouth slightly affect on revenue.  \n",
    "- In the heat map, some questions have been exposed. Why does price per product influence customer satisfaction and ratings? "
   ]
  },
  {
   "cell_type": "markdown",
   "metadata": {},
   "source": [
    "So, I came to first question of my research? \n",
    "- How are people's purchase habits shaped and with which variables?\n",
    "\n",
    "I *assume* that number of product is explained by Rain, Weekend, Discount, BegMonth, Gender and Advertising. I can test it with linear regression analysis."
   ]
  },
  {
   "cell_type": "code",
   "execution_count": 11,
   "metadata": {},
   "outputs": [
    {
     "data": {
      "text/html": [
       "<table class=\"simpletable\">\n",
       "<caption>OLS Regression Results</caption>\n",
       "<tr>\n",
       "  <th>Dep. Variable:</th>       <td>NoProducts</td>    <th>  R-squared:         </th>  <td>   0.598</td>  \n",
       "</tr>\n",
       "<tr>\n",
       "  <th>Model:</th>                   <td>OLS</td>       <th>  Adj. R-squared:    </th>  <td>   0.598</td>  \n",
       "</tr>\n",
       "<tr>\n",
       "  <th>Method:</th>             <td>Least Squares</td>  <th>  F-statistic:       </th>  <td>2.480e+04</td> \n",
       "</tr>\n",
       "<tr>\n",
       "  <th>Date:</th>             <td>Thu, 03 Dec 2020</td> <th>  Prob (F-statistic):</th>   <td>  0.00</td>   \n",
       "</tr>\n",
       "<tr>\n",
       "  <th>Time:</th>                 <td>22:28:16</td>     <th>  Log-Likelihood:    </th> <td>-1.8414e+05</td>\n",
       "</tr>\n",
       "<tr>\n",
       "  <th>No. Observations:</th>      <td>100000</td>      <th>  AIC:               </th>  <td>3.683e+05</td> \n",
       "</tr>\n",
       "<tr>\n",
       "  <th>Df Residuals:</th>          <td> 99993</td>      <th>  BIC:               </th>  <td>3.684e+05</td> \n",
       "</tr>\n",
       "<tr>\n",
       "  <th>Df Model:</th>              <td>     6</td>      <th>                     </th>      <td> </td>     \n",
       "</tr>\n",
       "<tr>\n",
       "  <th>Covariance Type:</th>      <td>nonrobust</td>    <th>                     </th>      <td> </td>     \n",
       "</tr>\n",
       "</table>\n",
       "<table class=\"simpletable\">\n",
       "<tr>\n",
       "           <td></td>             <th>coef</th>     <th>std err</th>      <th>t</th>      <th>P>|t|</th>  <th>[0.025</th>    <th>0.975]</th>  \n",
       "</tr>\n",
       "<tr>\n",
       "  <th>Intercept</th>          <td>    3.5889</td> <td>    0.013</td> <td>  273.998</td> <td> 0.000</td> <td>    3.563</td> <td>    3.615</td>\n",
       "</tr>\n",
       "<tr>\n",
       "  <th>Rain[T.True]</th>       <td>    2.2807</td> <td>    0.012</td> <td>  189.012</td> <td> 0.000</td> <td>    2.257</td> <td>    2.304</td>\n",
       "</tr>\n",
       "<tr>\n",
       "  <th>Weekend[T.True]</th>    <td>    3.0032</td> <td>    0.011</td> <td>  281.144</td> <td> 0.000</td> <td>    2.982</td> <td>    3.024</td>\n",
       "</tr>\n",
       "<tr>\n",
       "  <th>Discount[T.True]</th>   <td>    1.4975</td> <td>    0.016</td> <td>   93.157</td> <td> 0.000</td> <td>    1.466</td> <td>    1.529</td>\n",
       "</tr>\n",
       "<tr>\n",
       "  <th>BegMonth[T.True]</th>   <td>    1.9972</td> <td>    0.014</td> <td>  139.522</td> <td> 0.000</td> <td>    1.969</td> <td>    2.025</td>\n",
       "</tr>\n",
       "<tr>\n",
       "  <th>Gender[T.w]</th>        <td>   -0.3889</td> <td>    0.010</td> <td>  -39.508</td> <td> 0.000</td> <td>   -0.408</td> <td>   -0.370</td>\n",
       "</tr>\n",
       "<tr>\n",
       "  <th>Advertising[T.low]</th> <td>   -0.8125</td> <td>    0.012</td> <td>  -67.410</td> <td> 0.000</td> <td>   -0.836</td> <td>   -0.789</td>\n",
       "</tr>\n",
       "</table>\n",
       "<table class=\"simpletable\">\n",
       "<tr>\n",
       "  <th>Omnibus:</th>       <td>22439.270</td> <th>  Durbin-Watson:     </th> <td>   2.002</td> \n",
       "</tr>\n",
       "<tr>\n",
       "  <th>Prob(Omnibus):</th>  <td> 0.000</td>   <th>  Jarque-Bera (JB):  </th> <td>57200.158</td>\n",
       "</tr>\n",
       "<tr>\n",
       "  <th>Skew:</th>           <td> 1.227</td>   <th>  Prob(JB):          </th> <td>    0.00</td> \n",
       "</tr>\n",
       "<tr>\n",
       "  <th>Kurtosis:</th>       <td> 5.775</td>   <th>  Cond. No.          </th> <td>    5.42</td> \n",
       "</tr>\n",
       "</table><br/><br/>Notes:<br/>[1] Standard Errors assume that the covariance matrix of the errors is correctly specified."
      ],
      "text/plain": [
       "<class 'statsmodels.iolib.summary.Summary'>\n",
       "\"\"\"\n",
       "                            OLS Regression Results                            \n",
       "==============================================================================\n",
       "Dep. Variable:             NoProducts   R-squared:                       0.598\n",
       "Model:                            OLS   Adj. R-squared:                  0.598\n",
       "Method:                 Least Squares   F-statistic:                 2.480e+04\n",
       "Date:                Thu, 03 Dec 2020   Prob (F-statistic):               0.00\n",
       "Time:                        22:28:16   Log-Likelihood:            -1.8414e+05\n",
       "No. Observations:              100000   AIC:                         3.683e+05\n",
       "Df Residuals:                   99993   BIC:                         3.684e+05\n",
       "Df Model:                           6                                         \n",
       "Covariance Type:            nonrobust                                         \n",
       "======================================================================================\n",
       "                         coef    std err          t      P>|t|      [0.025      0.975]\n",
       "--------------------------------------------------------------------------------------\n",
       "Intercept              3.5889      0.013    273.998      0.000       3.563       3.615\n",
       "Rain[T.True]           2.2807      0.012    189.012      0.000       2.257       2.304\n",
       "Weekend[T.True]        3.0032      0.011    281.144      0.000       2.982       3.024\n",
       "Discount[T.True]       1.4975      0.016     93.157      0.000       1.466       1.529\n",
       "BegMonth[T.True]       1.9972      0.014    139.522      0.000       1.969       2.025\n",
       "Gender[T.w]           -0.3889      0.010    -39.508      0.000      -0.408      -0.370\n",
       "Advertising[T.low]    -0.8125      0.012    -67.410      0.000      -0.836      -0.789\n",
       "==============================================================================\n",
       "Omnibus:                    22439.270   Durbin-Watson:                   2.002\n",
       "Prob(Omnibus):                  0.000   Jarque-Bera (JB):            57200.158\n",
       "Skew:                           1.227   Prob(JB):                         0.00\n",
       "Kurtosis:                       5.775   Cond. No.                         5.42\n",
       "==============================================================================\n",
       "\n",
       "Notes:\n",
       "[1] Standard Errors assume that the covariance matrix of the errors is correctly specified.\n",
       "\"\"\""
      ]
     },
     "execution_count": 11,
     "metadata": {},
     "output_type": "execute_result"
    }
   ],
   "source": [
    "y, X = dmatrices(\"NoProducts ~ Rain + Weekend + Discount + BegMonth + Gender + Advertising\", df, return_type=\"dataframe\")\n",
    "ols = sm.OLS(y,X).fit()\n",
    "ols.summary()"
   ]
  },
  {
   "cell_type": "markdown",
   "metadata": {},
   "source": [
    "I created my model and results show that 60% of number of products is explained by selected parameters. Also, every parameter is significant to explain my model. I can check it with value of probability. The values are almost zero, I could reject null hypothesis ($H_{0}$) that means they are significant. What about coefficient? Those values show us how they affect number of products in unit change. For example, if day is rainy, sale increases 2.28 units.  \n",
    "I also wonder if region has any affect on sales?"
   ]
  },
  {
   "cell_type": "code",
   "execution_count": 12,
   "metadata": {},
   "outputs": [
    {
     "data": {
      "text/plain": [
       "Region\n",
       "1    4.426092\n",
       "2    4.455047\n",
       "3    4.414417\n",
       "4    4.423798\n",
       "Name: NoProducts, dtype: float64"
      ]
     },
     "execution_count": 12,
     "metadata": {},
     "output_type": "execute_result"
    }
   ],
   "source": [
    "df.groupby(\"Region\")[\"NoProducts\"].mean()"
   ]
  },
  {
   "cell_type": "markdown",
   "metadata": {},
   "source": [
    "Altought, there is no significant affect on sales."
   ]
  },
  {
   "cell_type": "code",
   "execution_count": 13,
   "metadata": {},
   "outputs": [
    {
     "data": {
      "text/html": [
       "<div>\n",
       "<style scoped>\n",
       "    .dataframe tbody tr th:only-of-type {\n",
       "        vertical-align: middle;\n",
       "    }\n",
       "\n",
       "    .dataframe tbody tr th {\n",
       "        vertical-align: top;\n",
       "    }\n",
       "\n",
       "    .dataframe thead th {\n",
       "        text-align: right;\n",
       "    }\n",
       "</style>\n",
       "<table border=\"1\" class=\"dataframe\">\n",
       "  <thead>\n",
       "    <tr style=\"text-align: right;\">\n",
       "      <th></th>\n",
       "      <th>Revenue</th>\n",
       "      <th>PricePerProduct</th>\n",
       "    </tr>\n",
       "    <tr>\n",
       "      <th>Region</th>\n",
       "      <th></th>\n",
       "      <th></th>\n",
       "    </tr>\n",
       "  </thead>\n",
       "  <tbody>\n",
       "    <tr>\n",
       "      <th>1</th>\n",
       "      <td>292.315085</td>\n",
       "      <td>66.092333</td>\n",
       "    </tr>\n",
       "    <tr>\n",
       "      <th>2</th>\n",
       "      <td>205.355941</td>\n",
       "      <td>46.091726</td>\n",
       "    </tr>\n",
       "    <tr>\n",
       "      <th>3</th>\n",
       "      <td>203.975510</td>\n",
       "      <td>46.188897</td>\n",
       "    </tr>\n",
       "    <tr>\n",
       "      <th>4</th>\n",
       "      <td>218.938642</td>\n",
       "      <td>49.603626</td>\n",
       "    </tr>\n",
       "  </tbody>\n",
       "</table>\n",
       "</div>"
      ],
      "text/plain": [
       "           Revenue  PricePerProduct\n",
       "Region                             \n",
       "1       292.315085        66.092333\n",
       "2       205.355941        46.091726\n",
       "3       203.975510        46.188897\n",
       "4       218.938642        49.603626"
      ]
     },
     "execution_count": 13,
     "metadata": {},
     "output_type": "execute_result"
    }
   ],
   "source": [
    "df.groupby(\"Region\")[[\"Revenue\", \"PricePerProduct\"]].mean()"
   ]
  },
  {
   "cell_type": "markdown",
   "metadata": {},
   "source": [
    "I checked effect of region on revenue and price per product and as we saw, I can say that revenue changes in different region.\n",
    "I want to understand sales, so I am going research revenue and depended parameters of it."
   ]
  },
  {
   "cell_type": "code",
   "execution_count": 14,
   "metadata": {},
   "outputs": [
    {
     "data": {
      "text/html": [
       "<table class=\"simpletable\">\n",
       "<caption>OLS Regression Results</caption>\n",
       "<tr>\n",
       "  <th>Dep. Variable:</th>         <td>Revenue</td>     <th>  R-squared:         </th>  <td>   0.513</td>  \n",
       "</tr>\n",
       "<tr>\n",
       "  <th>Model:</th>                   <td>OLS</td>       <th>  Adj. R-squared:    </th>  <td>   0.513</td>  \n",
       "</tr>\n",
       "<tr>\n",
       "  <th>Method:</th>             <td>Least Squares</td>  <th>  F-statistic:       </th>  <td>1.054e+04</td> \n",
       "</tr>\n",
       "<tr>\n",
       "  <th>Date:</th>             <td>Thu, 03 Dec 2020</td> <th>  Prob (F-statistic):</th>   <td>  0.00</td>   \n",
       "</tr>\n",
       "<tr>\n",
       "  <th>Time:</th>                 <td>22:28:18</td>     <th>  Log-Likelihood:    </th> <td>-6.2585e+05</td>\n",
       "</tr>\n",
       "<tr>\n",
       "  <th>No. Observations:</th>      <td>100000</td>      <th>  AIC:               </th>  <td>1.252e+06</td> \n",
       "</tr>\n",
       "<tr>\n",
       "  <th>Df Residuals:</th>          <td> 99989</td>      <th>  BIC:               </th>  <td>1.252e+06</td> \n",
       "</tr>\n",
       "<tr>\n",
       "  <th>Df Model:</th>              <td>    10</td>      <th>                     </th>      <td> </td>     \n",
       "</tr>\n",
       "<tr>\n",
       "  <th>Covariance Type:</th>      <td>nonrobust</td>    <th>                     </th>      <td> </td>     \n",
       "</tr>\n",
       "</table>\n",
       "<table class=\"simpletable\">\n",
       "<tr>\n",
       "           <td></td>             <th>coef</th>     <th>std err</th>      <th>t</th>      <th>P>|t|</th>  <th>[0.025</th>    <th>0.975]</th>  \n",
       "</tr>\n",
       "<tr>\n",
       "  <th>Intercept</th>          <td>   59.9416</td> <td>    1.594</td> <td>   37.603</td> <td> 0.000</td> <td>   56.817</td> <td>   63.066</td>\n",
       "</tr>\n",
       "<tr>\n",
       "  <th>Rain[T.True]</th>       <td>    0.8376</td> <td>    1.165</td> <td>    0.719</td> <td> 0.472</td> <td>   -1.445</td> <td>    3.121</td>\n",
       "</tr>\n",
       "<tr>\n",
       "  <th>Weekend[T.True]</th>    <td>    1.1288</td> <td>    1.184</td> <td>    0.953</td> <td> 0.341</td> <td>   -1.193</td> <td>    3.450</td>\n",
       "</tr>\n",
       "<tr>\n",
       "  <th>Discount[T.True]</th>   <td>   -0.9213</td> <td>    1.389</td> <td>   -0.663</td> <td> 0.507</td> <td>   -3.643</td> <td>    1.800</td>\n",
       "</tr>\n",
       "<tr>\n",
       "  <th>BegMonth[T.True]</th>   <td>    1.5636</td> <td>    1.296</td> <td>    1.206</td> <td> 0.228</td> <td>   -0.977</td> <td>    4.105</td>\n",
       "</tr>\n",
       "<tr>\n",
       "  <th>Gender[T.w]</th>        <td>    7.3145</td> <td>    0.822</td> <td>    8.898</td> <td> 0.000</td> <td>    5.703</td> <td>    8.926</td>\n",
       "</tr>\n",
       "<tr>\n",
       "  <th>Advertising[T.low]</th> <td>   -1.8602</td> <td>    1.021</td> <td>   -1.822</td> <td> 0.069</td> <td>   -3.862</td> <td>    0.141</td>\n",
       "</tr>\n",
       "<tr>\n",
       "  <th>Region_2</th>           <td>  -88.4749</td> <td>    1.133</td> <td>  -78.111</td> <td> 0.000</td> <td>  -90.695</td> <td>  -86.255</td>\n",
       "</tr>\n",
       "<tr>\n",
       "  <th>Region_3</th>           <td>  -87.7027</td> <td>    1.305</td> <td>  -67.188</td> <td> 0.000</td> <td>  -90.261</td> <td>  -85.144</td>\n",
       "</tr>\n",
       "<tr>\n",
       "  <th>Region_4</th>           <td>  -73.2776</td> <td>    1.049</td> <td>  -69.881</td> <td> 0.000</td> <td>  -75.333</td> <td>  -71.222</td>\n",
       "</tr>\n",
       "<tr>\n",
       "  <th>NoProducts</th>         <td>   51.7127</td> <td>    0.262</td> <td>  197.355</td> <td> 0.000</td> <td>   51.199</td> <td>   52.226</td>\n",
       "</tr>\n",
       "</table>\n",
       "<table class=\"simpletable\">\n",
       "<tr>\n",
       "  <th>Omnibus:</th>       <td>34098.503</td> <th>  Durbin-Watson:     </th>  <td>   1.998</td> \n",
       "</tr>\n",
       "<tr>\n",
       "  <th>Prob(Omnibus):</th>  <td> 0.000</td>   <th>  Jarque-Bera (JB):  </th> <td>148547.750</td>\n",
       "</tr>\n",
       "<tr>\n",
       "  <th>Skew:</th>           <td> 1.632</td>   <th>  Prob(JB):          </th>  <td>    0.00</td> \n",
       "</tr>\n",
       "<tr>\n",
       "  <th>Kurtosis:</th>       <td> 7.999</td>   <th>  Cond. No.          </th>  <td>    26.8</td> \n",
       "</tr>\n",
       "</table><br/><br/>Notes:<br/>[1] Standard Errors assume that the covariance matrix of the errors is correctly specified."
      ],
      "text/plain": [
       "<class 'statsmodels.iolib.summary.Summary'>\n",
       "\"\"\"\n",
       "                            OLS Regression Results                            \n",
       "==============================================================================\n",
       "Dep. Variable:                Revenue   R-squared:                       0.513\n",
       "Model:                            OLS   Adj. R-squared:                  0.513\n",
       "Method:                 Least Squares   F-statistic:                 1.054e+04\n",
       "Date:                Thu, 03 Dec 2020   Prob (F-statistic):               0.00\n",
       "Time:                        22:28:18   Log-Likelihood:            -6.2585e+05\n",
       "No. Observations:              100000   AIC:                         1.252e+06\n",
       "Df Residuals:                   99989   BIC:                         1.252e+06\n",
       "Df Model:                          10                                         \n",
       "Covariance Type:            nonrobust                                         \n",
       "======================================================================================\n",
       "                         coef    std err          t      P>|t|      [0.025      0.975]\n",
       "--------------------------------------------------------------------------------------\n",
       "Intercept             59.9416      1.594     37.603      0.000      56.817      63.066\n",
       "Rain[T.True]           0.8376      1.165      0.719      0.472      -1.445       3.121\n",
       "Weekend[T.True]        1.1288      1.184      0.953      0.341      -1.193       3.450\n",
       "Discount[T.True]      -0.9213      1.389     -0.663      0.507      -3.643       1.800\n",
       "BegMonth[T.True]       1.5636      1.296      1.206      0.228      -0.977       4.105\n",
       "Gender[T.w]            7.3145      0.822      8.898      0.000       5.703       8.926\n",
       "Advertising[T.low]    -1.8602      1.021     -1.822      0.069      -3.862       0.141\n",
       "Region_2             -88.4749      1.133    -78.111      0.000     -90.695     -86.255\n",
       "Region_3             -87.7027      1.305    -67.188      0.000     -90.261     -85.144\n",
       "Region_4             -73.2776      1.049    -69.881      0.000     -75.333     -71.222\n",
       "NoProducts            51.7127      0.262    197.355      0.000      51.199      52.226\n",
       "==============================================================================\n",
       "Omnibus:                    34098.503   Durbin-Watson:                   1.998\n",
       "Prob(Omnibus):                  0.000   Jarque-Bera (JB):           148547.750\n",
       "Skew:                           1.632   Prob(JB):                         0.00\n",
       "Kurtosis:                       7.999   Cond. No.                         26.8\n",
       "==============================================================================\n",
       "\n",
       "Notes:\n",
       "[1] Standard Errors assume that the covariance matrix of the errors is correctly specified.\n",
       "\"\"\""
      ]
     },
     "execution_count": 14,
     "metadata": {},
     "output_type": "execute_result"
    }
   ],
   "source": [
    "df2 = pd.get_dummies(df, columns=[\"Region\"], drop_first=True)\n",
    "y, X = dmatrices(\"Revenue ~ Region_2 + Region_3 + Region_4 + NoProducts + Rain + Weekend + Discount + BegMonth + Gender + Advertising\", df2, return_type=\"dataframe\")\n",
    "ols = sm.OLS(y,X).fit()\n",
    "ols.summary()"
   ]
  },
  {
   "cell_type": "markdown",
   "metadata": {},
   "source": [
    "My model is not strong enough to estimade dependent variable with given parameters. Categorical parameters except gender are not significant, in this case I must find other variables to increase my model."
   ]
  },
  {
   "cell_type": "code",
   "execution_count": 15,
   "metadata": {},
   "outputs": [
    {
     "data": {
      "text/html": [
       "<table class=\"simpletable\">\n",
       "<caption>OLS Regression Results</caption>\n",
       "<tr>\n",
       "  <th>Dep. Variable:</th>         <td>Revenue</td>     <th>  R-squared:         </th>  <td>   0.685</td>  \n",
       "</tr>\n",
       "<tr>\n",
       "  <th>Model:</th>                   <td>OLS</td>       <th>  Adj. R-squared:    </th>  <td>   0.685</td>  \n",
       "</tr>\n",
       "<tr>\n",
       "  <th>Method:</th>             <td>Least Squares</td>  <th>  F-statistic:       </th>  <td>3.630e+04</td> \n",
       "</tr>\n",
       "<tr>\n",
       "  <th>Date:</th>             <td>Thu, 03 Dec 2020</td> <th>  Prob (F-statistic):</th>   <td>  0.00</td>   \n",
       "</tr>\n",
       "<tr>\n",
       "  <th>Time:</th>                 <td>22:28:19</td>     <th>  Log-Likelihood:    </th> <td>-6.0404e+05</td>\n",
       "</tr>\n",
       "<tr>\n",
       "  <th>No. Observations:</th>      <td>100000</td>      <th>  AIC:               </th>  <td>1.208e+06</td> \n",
       "</tr>\n",
       "<tr>\n",
       "  <th>Df Residuals:</th>          <td> 99993</td>      <th>  BIC:               </th>  <td>1.208e+06</td> \n",
       "</tr>\n",
       "<tr>\n",
       "  <th>Df Model:</th>              <td>     6</td>      <th>                     </th>      <td> </td>     \n",
       "</tr>\n",
       "<tr>\n",
       "  <th>Covariance Type:</th>      <td>nonrobust</td>    <th>                     </th>      <td> </td>     \n",
       "</tr>\n",
       "</table>\n",
       "<table class=\"simpletable\">\n",
       "<tr>\n",
       "            <td></td>              <th>coef</th>     <th>std err</th>      <th>t</th>      <th>P>|t|</th>  <th>[0.025</th>    <th>0.975]</th>  \n",
       "</tr>\n",
       "<tr>\n",
       "  <th>Intercept</th>            <td> -374.4113</td> <td>    2.091</td> <td> -179.054</td> <td> 0.000</td> <td> -378.510</td> <td> -370.313</td>\n",
       "</tr>\n",
       "<tr>\n",
       "  <th>Gender[T.w]</th>          <td>    7.0924</td> <td>    0.658</td> <td>   10.783</td> <td> 0.000</td> <td>    5.803</td> <td>    8.381</td>\n",
       "</tr>\n",
       "<tr>\n",
       "  <th>Region_2</th>             <td>  -88.1588</td> <td>    0.911</td> <td>  -96.819</td> <td> 0.000</td> <td>  -89.943</td> <td>  -86.374</td>\n",
       "</tr>\n",
       "<tr>\n",
       "  <th>Region_3</th>             <td>  -88.2580</td> <td>    1.049</td> <td>  -84.104</td> <td> 0.000</td> <td>  -90.315</td> <td>  -86.201</td>\n",
       "</tr>\n",
       "<tr>\n",
       "  <th>Region_4</th>             <td>  -74.6996</td> <td>    0.843</td> <td>  -88.611</td> <td> 0.000</td> <td>  -76.352</td> <td>  -73.047</td>\n",
       "</tr>\n",
       "<tr>\n",
       "  <th>NoProducts</th>           <td>   51.9521</td> <td>    0.134</td> <td>  387.880</td> <td> 0.000</td> <td>   51.690</td> <td>   52.215</td>\n",
       "</tr>\n",
       "<tr>\n",
       "  <th>CustomerSatisfaction</th> <td>    6.2006</td> <td>    0.027</td> <td>  233.913</td> <td> 0.000</td> <td>    6.149</td> <td>    6.253</td>\n",
       "</tr>\n",
       "</table>\n",
       "<table class=\"simpletable\">\n",
       "<tr>\n",
       "  <th>Omnibus:</th>       <td>31665.463</td> <th>  Durbin-Watson:     </th>  <td>   2.007</td> \n",
       "</tr>\n",
       "<tr>\n",
       "  <th>Prob(Omnibus):</th>  <td> 0.000</td>   <th>  Jarque-Bera (JB):  </th> <td>217731.477</td>\n",
       "</tr>\n",
       "<tr>\n",
       "  <th>Skew:</th>           <td> 1.350</td>   <th>  Prob(JB):          </th>  <td>    0.00</td> \n",
       "</tr>\n",
       "<tr>\n",
       "  <th>Kurtosis:</th>       <td> 9.706</td>   <th>  Cond. No.          </th>  <td>    473.</td> \n",
       "</tr>\n",
       "</table><br/><br/>Notes:<br/>[1] Standard Errors assume that the covariance matrix of the errors is correctly specified."
      ],
      "text/plain": [
       "<class 'statsmodels.iolib.summary.Summary'>\n",
       "\"\"\"\n",
       "                            OLS Regression Results                            \n",
       "==============================================================================\n",
       "Dep. Variable:                Revenue   R-squared:                       0.685\n",
       "Model:                            OLS   Adj. R-squared:                  0.685\n",
       "Method:                 Least Squares   F-statistic:                 3.630e+04\n",
       "Date:                Thu, 03 Dec 2020   Prob (F-statistic):               0.00\n",
       "Time:                        22:28:19   Log-Likelihood:            -6.0404e+05\n",
       "No. Observations:              100000   AIC:                         1.208e+06\n",
       "Df Residuals:                   99993   BIC:                         1.208e+06\n",
       "Df Model:                           6                                         \n",
       "Covariance Type:            nonrobust                                         \n",
       "========================================================================================\n",
       "                           coef    std err          t      P>|t|      [0.025      0.975]\n",
       "----------------------------------------------------------------------------------------\n",
       "Intercept             -374.4113      2.091   -179.054      0.000    -378.510    -370.313\n",
       "Gender[T.w]              7.0924      0.658     10.783      0.000       5.803       8.381\n",
       "Region_2               -88.1588      0.911    -96.819      0.000     -89.943     -86.374\n",
       "Region_3               -88.2580      1.049    -84.104      0.000     -90.315     -86.201\n",
       "Region_4               -74.6996      0.843    -88.611      0.000     -76.352     -73.047\n",
       "NoProducts              51.9521      0.134    387.880      0.000      51.690      52.215\n",
       "CustomerSatisfaction     6.2006      0.027    233.913      0.000       6.149       6.253\n",
       "==============================================================================\n",
       "Omnibus:                    31665.463   Durbin-Watson:                   2.007\n",
       "Prob(Omnibus):                  0.000   Jarque-Bera (JB):           217731.477\n",
       "Skew:                           1.350   Prob(JB):                         0.00\n",
       "Kurtosis:                       9.706   Cond. No.                         473.\n",
       "==============================================================================\n",
       "\n",
       "Notes:\n",
       "[1] Standard Errors assume that the covariance matrix of the errors is correctly specified.\n",
       "\"\"\""
      ]
     },
     "execution_count": 15,
     "metadata": {},
     "output_type": "execute_result"
    }
   ],
   "source": [
    "df2 = pd.get_dummies(df, columns=[\"Region\"], drop_first=True)\n",
    "y, X = dmatrices(\"Revenue ~ Region_2 + Region_3 + Region_4 + NoProducts + Gender + CustomerSatisfaction\", df2, return_type=\"dataframe\")\n",
    "ols = sm.OLS(y,X).fit()\n",
    "ols.summary()"
   ]
  },
  {
   "cell_type": "markdown",
   "metadata": {},
   "source": [
    "After rearrange of model, $R^2$ has been increased to **68.5%** and still every parameter is significant. As a result, my model is explaining 68.5% of revenue, remain part of revenue is affacted by external factors.  \n",
    "What if we want to learn which parameter is the most important? I assume that number of product will be the most important dependent,thus my question should be which one is the second most important. For that reason, I am goinh to *standardize coefficients* to compare $\\beta$."
   ]
  },
  {
   "cell_type": "code",
   "execution_count": 16,
   "metadata": {},
   "outputs": [
    {
     "name": "stdout",
     "output_type": "stream",
     "text": [
      "Region_2 [-0.2107303]\n",
      "Region_3 [-0.17430982]\n",
      "Region_4 [-0.19674595]\n",
      "NoProducts [0.69011644]\n",
      "Gender_w [0.01918566]\n",
      "CustomerSatisfaction [0.41497106]\n"
     ]
    }
   ],
   "source": [
    "df2 = pd.get_dummies(df, columns=[\"Region\", \"Gender\"], drop_first=True)\n",
    "y, X = dmatrices(\"Revenue ~ Region_2 + Region_3 + Region_4 + NoProducts + Gender_w + CustomerSatisfaction\", df2, return_type=\"dataframe\")\n",
    "ols = sm.OLS(y,X).fit()\n",
    "counter=1\n",
    "for p, col in zip(ols.params[1:], [\"Region_2\", \"Region_3\", \"Region_4\", \"NoProducts\", \"Gender_w\", \"CustomerSatisfaction\"]):\n",
    "    bstd = p * (np.std(X[col])/np.std(y))\n",
    "    print(X.columns[counter],bstd.values)\n",
    "    counter += 1\n"
   ]
  },
  {
   "cell_type": "markdown",
   "metadata": {
    "scrolled": true
   },
   "source": [
    "As I expected, NoProducts has the most impact on model to explain Revenue, and  CustomerSatisfaction has the second most explanatory variable in my model. There is a problem with my model. I used categorical variables to explain independent variable, and when we dealt with relationships among several categorical variables, ***log-linear models*** may be more suitable because there is no clear distinction between indepentend and explanatory variables."
   ]
  },
  {
   "cell_type": "code",
   "execution_count": 17,
   "metadata": {},
   "outputs": [
    {
     "data": {
      "text/html": [
       "<table class=\"simpletable\">\n",
       "<caption>OLS Regression Results</caption>\n",
       "<tr>\n",
       "  <th>Dep. Variable:</th>     <td>np.log(Revenue)</td> <th>  R-squared:         </th> <td>   0.703</td> \n",
       "</tr>\n",
       "<tr>\n",
       "  <th>Model:</th>                   <td>OLS</td>       <th>  Adj. R-squared:    </th> <td>   0.703</td> \n",
       "</tr>\n",
       "<tr>\n",
       "  <th>Method:</th>             <td>Least Squares</td>  <th>  F-statistic:       </th> <td>3.954e+04</td>\n",
       "</tr>\n",
       "<tr>\n",
       "  <th>Date:</th>             <td>Thu, 03 Dec 2020</td> <th>  Prob (F-statistic):</th>  <td>  0.00</td>  \n",
       "</tr>\n",
       "<tr>\n",
       "  <th>Time:</th>                 <td>22:28:20</td>     <th>  Log-Likelihood:    </th> <td> -29754.</td> \n",
       "</tr>\n",
       "<tr>\n",
       "  <th>No. Observations:</th>      <td>100000</td>      <th>  AIC:               </th> <td>5.952e+04</td>\n",
       "</tr>\n",
       "<tr>\n",
       "  <th>Df Residuals:</th>          <td> 99993</td>      <th>  BIC:               </th> <td>5.959e+04</td>\n",
       "</tr>\n",
       "<tr>\n",
       "  <th>Df Model:</th>              <td>     6</td>      <th>                     </th>     <td> </td>    \n",
       "</tr>\n",
       "<tr>\n",
       "  <th>Covariance Type:</th>      <td>nonrobust</td>    <th>                     </th>     <td> </td>    \n",
       "</tr>\n",
       "</table>\n",
       "<table class=\"simpletable\">\n",
       "<tr>\n",
       "            <td></td>              <th>coef</th>     <th>std err</th>      <th>t</th>      <th>P>|t|</th>  <th>[0.025</th>    <th>0.975]</th>  \n",
       "</tr>\n",
       "<tr>\n",
       "  <th>Intercept</th>            <td>    3.1896</td> <td>    0.007</td> <td>  475.825</td> <td> 0.000</td> <td>    3.177</td> <td>    3.203</td>\n",
       "</tr>\n",
       "<tr>\n",
       "  <th>Gender[T.w]</th>          <td>    0.0171</td> <td>    0.002</td> <td>    8.091</td> <td> 0.000</td> <td>    0.013</td> <td>    0.021</td>\n",
       "</tr>\n",
       "<tr>\n",
       "  <th>Region_2</th>             <td>   -0.4108</td> <td>    0.003</td> <td> -140.742</td> <td> 0.000</td> <td>   -0.417</td> <td>   -0.405</td>\n",
       "</tr>\n",
       "<tr>\n",
       "  <th>Region_3</th>             <td>   -0.4115</td> <td>    0.003</td> <td> -122.336</td> <td> 0.000</td> <td>   -0.418</td> <td>   -0.405</td>\n",
       "</tr>\n",
       "<tr>\n",
       "  <th>Region_4</th>             <td>   -0.3769</td> <td>    0.003</td> <td> -139.453</td> <td> 0.000</td> <td>   -0.382</td> <td>   -0.372</td>\n",
       "</tr>\n",
       "<tr>\n",
       "  <th>NoProducts</th>           <td>    0.1564</td> <td>    0.000</td> <td>  364.173</td> <td> 0.000</td> <td>    0.156</td> <td>    0.157</td>\n",
       "</tr>\n",
       "<tr>\n",
       "  <th>CustomerSatisfaction</th> <td>    0.0236</td> <td>  8.5e-05</td> <td>  277.381</td> <td> 0.000</td> <td>    0.023</td> <td>    0.024</td>\n",
       "</tr>\n",
       "</table>\n",
       "<table class=\"simpletable\">\n",
       "<tr>\n",
       "  <th>Omnibus:</th>       <td>38058.943</td> <th>  Durbin-Watson:     </th> <td>   1.951</td>\n",
       "</tr>\n",
       "<tr>\n",
       "  <th>Prob(Omnibus):</th>  <td> 0.000</td>   <th>  Jarque-Bera (JB):  </th> <td>5677.305</td>\n",
       "</tr>\n",
       "<tr>\n",
       "  <th>Skew:</th>           <td> 0.217</td>   <th>  Prob(JB):          </th> <td>    0.00</td>\n",
       "</tr>\n",
       "<tr>\n",
       "  <th>Kurtosis:</th>       <td> 1.916</td>   <th>  Cond. No.          </th> <td>    473.</td>\n",
       "</tr>\n",
       "</table><br/><br/>Notes:<br/>[1] Standard Errors assume that the covariance matrix of the errors is correctly specified."
      ],
      "text/plain": [
       "<class 'statsmodels.iolib.summary.Summary'>\n",
       "\"\"\"\n",
       "                            OLS Regression Results                            \n",
       "==============================================================================\n",
       "Dep. Variable:        np.log(Revenue)   R-squared:                       0.703\n",
       "Model:                            OLS   Adj. R-squared:                  0.703\n",
       "Method:                 Least Squares   F-statistic:                 3.954e+04\n",
       "Date:                Thu, 03 Dec 2020   Prob (F-statistic):               0.00\n",
       "Time:                        22:28:20   Log-Likelihood:                -29754.\n",
       "No. Observations:              100000   AIC:                         5.952e+04\n",
       "Df Residuals:                   99993   BIC:                         5.959e+04\n",
       "Df Model:                           6                                         \n",
       "Covariance Type:            nonrobust                                         \n",
       "========================================================================================\n",
       "                           coef    std err          t      P>|t|      [0.025      0.975]\n",
       "----------------------------------------------------------------------------------------\n",
       "Intercept                3.1896      0.007    475.825      0.000       3.177       3.203\n",
       "Gender[T.w]              0.0171      0.002      8.091      0.000       0.013       0.021\n",
       "Region_2                -0.4108      0.003   -140.742      0.000      -0.417      -0.405\n",
       "Region_3                -0.4115      0.003   -122.336      0.000      -0.418      -0.405\n",
       "Region_4                -0.3769      0.003   -139.453      0.000      -0.382      -0.372\n",
       "NoProducts               0.1564      0.000    364.173      0.000       0.156       0.157\n",
       "CustomerSatisfaction     0.0236    8.5e-05    277.381      0.000       0.023       0.024\n",
       "==============================================================================\n",
       "Omnibus:                    38058.943   Durbin-Watson:                   1.951\n",
       "Prob(Omnibus):                  0.000   Jarque-Bera (JB):             5677.305\n",
       "Skew:                           0.217   Prob(JB):                         0.00\n",
       "Kurtosis:                       1.916   Cond. No.                         473.\n",
       "==============================================================================\n",
       "\n",
       "Notes:\n",
       "[1] Standard Errors assume that the covariance matrix of the errors is correctly specified.\n",
       "\"\"\""
      ]
     },
     "execution_count": 17,
     "metadata": {},
     "output_type": "execute_result"
    }
   ],
   "source": [
    "df2 = pd.get_dummies(df, columns=[\"Region\"], drop_first=True)\n",
    "y, X = dmatrices(\"np.log(Revenue) ~ Region_2 + Region_3 + Region_4 + NoProducts + Gender + CustomerSatisfaction\", df2, return_type=\"dataframe\")\n",
    "ols = sm.OLS(y,X).fit()\n",
    "ols.summary()"
   ]
  },
  {
   "cell_type": "markdown",
   "metadata": {},
   "source": [
    "Log-linear models has fit my model, $R^2$ went up 70.3%. This is the more accurate way to explain revenue with explanatory variables.  \n",
    "We can see with plot, predicted values of y and actual revenue are correlated."
   ]
  },
  {
   "cell_type": "code",
   "execution_count": 18,
   "metadata": {},
   "outputs": [
    {
     "data": {
      "text/plain": [
       "<matplotlib.collections.PathCollection at 0x17682df7400>"
      ]
     },
     "execution_count": 18,
     "metadata": {},
     "output_type": "execute_result"
    },
    {
     "data": {
      "image/png": "[encoded data removed]",
      "text/plain": [
       "<Figure size 432x288 with 1 Axes>"
      ]
     },
     "metadata": {},
     "output_type": "display_data"
    }
   ],
   "source": [
    "plt.scatter(ols.predict(), y)"
   ]
  },
  {
   "cell_type": "markdown",
   "metadata": {},
   "source": [
    "We understand which variables affect revenue and impact of variables on revenue. My second question is understand customer satisfaction and rating delivery company, also which variables is driving these. Moreover, I would like to determine consumer habits."
   ]
  },
  {
   "cell_type": "code",
   "execution_count": 19,
   "metadata": {},
   "outputs": [
    {
     "data": {
      "text/html": [
       "<div>\n",
       "<style scoped>\n",
       "    .dataframe tbody tr th:only-of-type {\n",
       "        vertical-align: middle;\n",
       "    }\n",
       "\n",
       "    .dataframe tbody tr th {\n",
       "        vertical-align: top;\n",
       "    }\n",
       "\n",
       "    .dataframe thead th {\n",
       "        text-align: right;\n",
       "    }\n",
       "</style>\n",
       "<table border=\"1\" class=\"dataframe\">\n",
       "  <thead>\n",
       "    <tr style=\"text-align: right;\">\n",
       "      <th></th>\n",
       "      <th>CustomerSatisfaction</th>\n",
       "      <th>Rating_DeliveryComp</th>\n",
       "    </tr>\n",
       "    <tr>\n",
       "      <th>Gender</th>\n",
       "      <th></th>\n",
       "      <th></th>\n",
       "    </tr>\n",
       "  </thead>\n",
       "  <tbody>\n",
       "    <tr>\n",
       "      <th>m</th>\n",
       "      <td>69.808800</td>\n",
       "      <td>3.319506</td>\n",
       "    </tr>\n",
       "    <tr>\n",
       "      <th>w</th>\n",
       "      <td>69.859848</td>\n",
       "      <td>3.323687</td>\n",
       "    </tr>\n",
       "  </tbody>\n",
       "</table>\n",
       "</div>"
      ],
      "text/plain": [
       "        CustomerSatisfaction  Rating_DeliveryComp\n",
       "Gender                                           \n",
       "m                  69.808800             3.319506\n",
       "w                  69.859848             3.323687"
      ]
     },
     "execution_count": 19,
     "metadata": {},
     "output_type": "execute_result"
    }
   ],
   "source": [
    "df.groupby(\"Gender\")[[\"CustomerSatisfaction\", \"Rating_DeliveryComp\"]].mean()"
   ]
  },
  {
   "cell_type": "code",
   "execution_count": 20,
   "metadata": {},
   "outputs": [
    {
     "data": {
      "text/plain": [
       "<AxesSubplot:xlabel='CustomerSatisfaction', ylabel='Count'>"
      ]
     },
     "execution_count": 20,
     "metadata": {},
     "output_type": "execute_result"
    },
    {
     "data": {
      "image/png": "[encoded data removed]",
      "text/plain": [
       "<Figure size 432x288 with 1 Axes>"
      ]
     },
     "metadata": {},
     "output_type": "display_data"
    }
   ],
   "source": [
    "sns.histplot(x=\"CustomerSatisfaction\", hue=\"Gender\", data=df, alpha=0.5)"
   ]
  },
  {
   "cell_type": "code",
   "execution_count": 21,
   "metadata": {},
   "outputs": [
    {
     "data": {
      "text/html": [
       "<div>\n",
       "<style scoped>\n",
       "    .dataframe tbody tr th:only-of-type {\n",
       "        vertical-align: middle;\n",
       "    }\n",
       "\n",
       "    .dataframe tbody tr th {\n",
       "        vertical-align: top;\n",
       "    }\n",
       "\n",
       "    .dataframe thead th {\n",
       "        text-align: right;\n",
       "    }\n",
       "</style>\n",
       "<table border=\"1\" class=\"dataframe\">\n",
       "  <thead>\n",
       "    <tr style=\"text-align: right;\">\n",
       "      <th></th>\n",
       "      <th>NoProducts</th>\n",
       "      <th>Revenue</th>\n",
       "    </tr>\n",
       "    <tr>\n",
       "      <th>Gender</th>\n",
       "      <th></th>\n",
       "      <th></th>\n",
       "    </tr>\n",
       "  </thead>\n",
       "  <tbody>\n",
       "    <tr>\n",
       "      <th>m</th>\n",
       "      <td>186761</td>\n",
       "      <td>9.581423e+06</td>\n",
       "    </tr>\n",
       "    <tr>\n",
       "      <th>w</th>\n",
       "      <td>256316</td>\n",
       "      <td>1.356883e+07</td>\n",
       "    </tr>\n",
       "  </tbody>\n",
       "</table>\n",
       "</div>"
      ],
      "text/plain": [
       "        NoProducts       Revenue\n",
       "Gender                          \n",
       "m           186761  9.581423e+06\n",
       "w           256316  1.356883e+07"
      ]
     },
     "execution_count": 21,
     "metadata": {},
     "output_type": "execute_result"
    }
   ],
   "source": [
    "df.groupby(\"Gender\")[[\"NoProducts\", \"Revenue\"]].sum()"
   ]
  },
  {
   "cell_type": "code",
   "execution_count": 22,
   "metadata": {},
   "outputs": [
    {
     "data": {
      "text/plain": [
       "0.59"
      ]
     },
     "execution_count": 22,
     "metadata": {},
     "output_type": "execute_result"
    }
   ],
   "source": [
    "((df.groupby(\"Gender\")[[\"Revenue\"]].sum().Revenue[1]) / (df.groupby(\"Gender\")[[\"Revenue\"]].sum().Revenue[0] + df.groupby(\"Gender\")[[\"Revenue\"]].sum().Revenue[1])).round(2)"
   ]
  },
  {
   "cell_type": "markdown",
   "metadata": {},
   "source": [
    "Because of some reasons, the first thing coming to my mind, gender should be account important role in rating and buying. However, we can follow on table, there is no significant difference between two genders. Whereas, woman tend to purchase more than man and **59% of total sales** is made by woman. In addition, there may possible relation between regions. People who lives in different neighborhood have dissimilar characteristics, buying habits and behaviours. "
   ]
  },
  {
   "cell_type": "code",
   "execution_count": 23,
   "metadata": {},
   "outputs": [
    {
     "data": {
      "text/html": [
       "<div>\n",
       "<style scoped>\n",
       "    .dataframe tbody tr th:only-of-type {\n",
       "        vertical-align: middle;\n",
       "    }\n",
       "\n",
       "    .dataframe tbody tr th {\n",
       "        vertical-align: top;\n",
       "    }\n",
       "\n",
       "    .dataframe thead th {\n",
       "        text-align: right;\n",
       "    }\n",
       "</style>\n",
       "<table border=\"1\" class=\"dataframe\">\n",
       "  <thead>\n",
       "    <tr style=\"text-align: right;\">\n",
       "      <th></th>\n",
       "      <th>CustomerSatisfaction</th>\n",
       "      <th>Rating_DeliveryComp</th>\n",
       "    </tr>\n",
       "    <tr>\n",
       "      <th>Region</th>\n",
       "      <th></th>\n",
       "      <th></th>\n",
       "    </tr>\n",
       "  </thead>\n",
       "  <tbody>\n",
       "    <tr>\n",
       "      <th>1</th>\n",
       "      <td>69.760029</td>\n",
       "      <td>3.312027</td>\n",
       "    </tr>\n",
       "    <tr>\n",
       "      <th>2</th>\n",
       "      <td>69.706576</td>\n",
       "      <td>3.308975</td>\n",
       "    </tr>\n",
       "    <tr>\n",
       "      <th>3</th>\n",
       "      <td>69.846741</td>\n",
       "      <td>3.323032</td>\n",
       "    </tr>\n",
       "    <tr>\n",
       "      <th>4</th>\n",
       "      <td>69.987057</td>\n",
       "      <td>3.337933</td>\n",
       "    </tr>\n",
       "  </tbody>\n",
       "</table>\n",
       "</div>"
      ],
      "text/plain": [
       "        CustomerSatisfaction  Rating_DeliveryComp\n",
       "Region                                           \n",
       "1                  69.760029             3.312027\n",
       "2                  69.706576             3.308975\n",
       "3                  69.846741             3.323032\n",
       "4                  69.987057             3.337933"
      ]
     },
     "execution_count": 23,
     "metadata": {},
     "output_type": "execute_result"
    }
   ],
   "source": [
    "df.groupby(\"Region\")[[\"CustomerSatisfaction\", \"Rating_DeliveryComp\"]].mean()\n"
   ]
  },
  {
   "cell_type": "code",
   "execution_count": 24,
   "metadata": {},
   "outputs": [
    {
     "data": {
      "text/html": [
       "<div>\n",
       "<style scoped>\n",
       "    .dataframe tbody tr th:only-of-type {\n",
       "        vertical-align: middle;\n",
       "    }\n",
       "\n",
       "    .dataframe tbody tr th {\n",
       "        vertical-align: top;\n",
       "    }\n",
       "\n",
       "    .dataframe thead th {\n",
       "        text-align: right;\n",
       "    }\n",
       "</style>\n",
       "<table border=\"1\" class=\"dataframe\">\n",
       "  <thead>\n",
       "    <tr style=\"text-align: right;\">\n",
       "      <th></th>\n",
       "      <th>NoProducts</th>\n",
       "      <th>Revenue</th>\n",
       "    </tr>\n",
       "    <tr>\n",
       "      <th>Region</th>\n",
       "      <th></th>\n",
       "      <th></th>\n",
       "    </tr>\n",
       "  </thead>\n",
       "  <tbody>\n",
       "    <tr>\n",
       "      <th>1</th>\n",
       "      <td>109891</td>\n",
       "      <td>7.257599e+06</td>\n",
       "    </tr>\n",
       "    <tr>\n",
       "      <th>2</th>\n",
       "      <td>111443</td>\n",
       "      <td>5.136979e+06</td>\n",
       "    </tr>\n",
       "    <tr>\n",
       "      <th>3</th>\n",
       "      <td>66565</td>\n",
       "      <td>3.075747e+06</td>\n",
       "    </tr>\n",
       "    <tr>\n",
       "      <th>4</th>\n",
       "      <td>155178</td>\n",
       "      <td>7.679930e+06</td>\n",
       "    </tr>\n",
       "  </tbody>\n",
       "</table>\n",
       "</div>"
      ],
      "text/plain": [
       "        NoProducts       Revenue\n",
       "Region                          \n",
       "1           109891  7.257599e+06\n",
       "2           111443  5.136979e+06\n",
       "3            66565  3.075747e+06\n",
       "4           155178  7.679930e+06"
      ]
     },
     "execution_count": 24,
     "metadata": {},
     "output_type": "execute_result"
    }
   ],
   "source": [
    "df.groupby(\"Region\")[[\"NoProducts\", \"Revenue\"]].sum()"
   ]
  },
  {
   "cell_type": "markdown",
   "metadata": {},
   "source": [
    "Again, consume of region 4 is higher than other region, whereas region 3 has least purchases. E-Fashion' revenue is higher at region 4 and then region 1. \n",
    "- E-Fashion should focus women customer, especially at region 1 and region 4."
   ]
  },
  {
   "cell_type": "code",
   "execution_count": 25,
   "metadata": {},
   "outputs": [
    {
     "data": {
      "text/html": [
       "<div>\n",
       "<style scoped>\n",
       "    .dataframe tbody tr th:only-of-type {\n",
       "        vertical-align: middle;\n",
       "    }\n",
       "\n",
       "    .dataframe tbody tr th {\n",
       "        vertical-align: top;\n",
       "    }\n",
       "\n",
       "    .dataframe thead th {\n",
       "        text-align: right;\n",
       "    }\n",
       "</style>\n",
       "<table border=\"1\" class=\"dataframe\">\n",
       "  <thead>\n",
       "    <tr style=\"text-align: right;\">\n",
       "      <th>Region</th>\n",
       "      <th>1</th>\n",
       "      <th>2</th>\n",
       "      <th>3</th>\n",
       "      <th>4</th>\n",
       "    </tr>\n",
       "    <tr>\n",
       "      <th>Gender</th>\n",
       "      <th></th>\n",
       "      <th></th>\n",
       "      <th></th>\n",
       "      <th></th>\n",
       "    </tr>\n",
       "  </thead>\n",
       "  <tbody>\n",
       "    <tr>\n",
       "      <th>m</th>\n",
       "      <td>3.007641e+06</td>\n",
       "      <td>2.125234e+06</td>\n",
       "      <td>1.289443e+06</td>\n",
       "      <td>3.159105e+06</td>\n",
       "    </tr>\n",
       "    <tr>\n",
       "      <th>w</th>\n",
       "      <td>4.249958e+06</td>\n",
       "      <td>3.011745e+06</td>\n",
       "      <td>1.786304e+06</td>\n",
       "      <td>4.520825e+06</td>\n",
       "    </tr>\n",
       "  </tbody>\n",
       "</table>\n",
       "</div>"
      ],
      "text/plain": [
       "Region             1             2             3             4\n",
       "Gender                                                        \n",
       "m       3.007641e+06  2.125234e+06  1.289443e+06  3.159105e+06\n",
       "w       4.249958e+06  3.011745e+06  1.786304e+06  4.520825e+06"
      ]
     },
     "execution_count": 25,
     "metadata": {},
     "output_type": "execute_result"
    }
   ],
   "source": [
    "df.pivot_table(index=[\"Gender\"], columns=\"Region\", values=\"Revenue\", aggfunc=\"sum\")"
   ]
  },
  {
   "cell_type": "markdown",
   "metadata": {},
   "source": [
    "When I determined explanatory variables of revenur, advertising was one of the variables. We determined that advertising was significant and explained change in revenue. We can observe real effect of advertising on gender and region."
   ]
  },
  {
   "cell_type": "code",
   "execution_count": 26,
   "metadata": {},
   "outputs": [
    {
     "data": {
      "text/html": [
       "<div>\n",
       "<style scoped>\n",
       "    .dataframe tbody tr th:only-of-type {\n",
       "        vertical-align: middle;\n",
       "    }\n",
       "\n",
       "    .dataframe tbody tr th {\n",
       "        vertical-align: top;\n",
       "    }\n",
       "\n",
       "    .dataframe thead th {\n",
       "        text-align: right;\n",
       "    }\n",
       "</style>\n",
       "<table border=\"1\" class=\"dataframe\">\n",
       "  <thead>\n",
       "    <tr style=\"text-align: right;\">\n",
       "      <th></th>\n",
       "      <th>Region</th>\n",
       "      <th>1</th>\n",
       "      <th>2</th>\n",
       "      <th>3</th>\n",
       "      <th>4</th>\n",
       "    </tr>\n",
       "    <tr>\n",
       "      <th>Gender</th>\n",
       "      <th>Advertising</th>\n",
       "      <th></th>\n",
       "      <th></th>\n",
       "      <th></th>\n",
       "      <th></th>\n",
       "    </tr>\n",
       "  </thead>\n",
       "  <tbody>\n",
       "    <tr>\n",
       "      <th rowspan=\"2\" valign=\"top\">m</th>\n",
       "      <th>high</th>\n",
       "      <td>8.191761e+05</td>\n",
       "      <td>5.919656e+05</td>\n",
       "      <td>3.670908e+05</td>\n",
       "      <td>8.511047e+05</td>\n",
       "    </tr>\n",
       "    <tr>\n",
       "      <th>low</th>\n",
       "      <td>2.188465e+06</td>\n",
       "      <td>1.533268e+06</td>\n",
       "      <td>9.223524e+05</td>\n",
       "      <td>2.308000e+06</td>\n",
       "    </tr>\n",
       "    <tr>\n",
       "      <th rowspan=\"2\" valign=\"top\">w</th>\n",
       "      <th>high</th>\n",
       "      <td>8.507526e+05</td>\n",
       "      <td>5.830335e+05</td>\n",
       "      <td>3.634435e+05</td>\n",
       "      <td>9.139508e+05</td>\n",
       "    </tr>\n",
       "    <tr>\n",
       "      <th>low</th>\n",
       "      <td>3.399205e+06</td>\n",
       "      <td>2.428711e+06</td>\n",
       "      <td>1.422860e+06</td>\n",
       "      <td>3.606874e+06</td>\n",
       "    </tr>\n",
       "  </tbody>\n",
       "</table>\n",
       "</div>"
      ],
      "text/plain": [
       "Region                         1             2             3             4\n",
       "Gender Advertising                                                        \n",
       "m      high         8.191761e+05  5.919656e+05  3.670908e+05  8.511047e+05\n",
       "       low          2.188465e+06  1.533268e+06  9.223524e+05  2.308000e+06\n",
       "w      high         8.507526e+05  5.830335e+05  3.634435e+05  9.139508e+05\n",
       "       low          3.399205e+06  2.428711e+06  1.422860e+06  3.606874e+06"
      ]
     },
     "execution_count": 26,
     "metadata": {},
     "output_type": "execute_result"
    }
   ],
   "source": [
    "df.pivot_table(index=[\"Gender\", \"Advertising\"], columns=\"Region\", values=\"Revenue\", aggfunc=\"sum\")"
   ]
  },
  {
   "cell_type": "markdown",
   "metadata": {},
   "source": [
    "The result is very impressive, effect of advertising is huge on sales. It is nearly 3 or 4 times higher agains to low advertising."
   ]
  },
  {
   "cell_type": "code",
   "execution_count": 27,
   "metadata": {},
   "outputs": [
    {
     "data": {
      "text/html": [
       "<div>\n",
       "<style scoped>\n",
       "    .dataframe tbody tr th:only-of-type {\n",
       "        vertical-align: middle;\n",
       "    }\n",
       "\n",
       "    .dataframe tbody tr th {\n",
       "        vertical-align: top;\n",
       "    }\n",
       "\n",
       "    .dataframe thead th {\n",
       "        text-align: right;\n",
       "    }\n",
       "</style>\n",
       "<table border=\"1\" class=\"dataframe\">\n",
       "  <thead>\n",
       "    <tr style=\"text-align: right;\">\n",
       "      <th></th>\n",
       "      <th>Region</th>\n",
       "      <th>1</th>\n",
       "      <th>2</th>\n",
       "      <th>3</th>\n",
       "      <th>4</th>\n",
       "    </tr>\n",
       "    <tr>\n",
       "      <th>Gender</th>\n",
       "      <th>Discount</th>\n",
       "      <th></th>\n",
       "      <th></th>\n",
       "      <th></th>\n",
       "      <th></th>\n",
       "    </tr>\n",
       "  </thead>\n",
       "  <tbody>\n",
       "    <tr>\n",
       "      <th rowspan=\"2\" valign=\"top\">m</th>\n",
       "      <th>False</th>\n",
       "      <td>4.492509</td>\n",
       "      <td>4.558958</td>\n",
       "      <td>4.489759</td>\n",
       "      <td>4.498139</td>\n",
       "    </tr>\n",
       "    <tr>\n",
       "      <th>True</th>\n",
       "      <td>6.027630</td>\n",
       "      <td>5.960746</td>\n",
       "      <td>6.037267</td>\n",
       "      <td>5.937916</td>\n",
       "    </tr>\n",
       "    <tr>\n",
       "      <th rowspan=\"2\" valign=\"top\">w</th>\n",
       "      <th>False</th>\n",
       "      <td>4.143444</td>\n",
       "      <td>4.126595</td>\n",
       "      <td>4.088148</td>\n",
       "      <td>4.120870</td>\n",
       "    </tr>\n",
       "    <tr>\n",
       "      <th>True</th>\n",
       "      <td>5.615603</td>\n",
       "      <td>5.727745</td>\n",
       "      <td>5.718091</td>\n",
       "      <td>5.663191</td>\n",
       "    </tr>\n",
       "  </tbody>\n",
       "</table>\n",
       "</div>"
      ],
      "text/plain": [
       "Region                  1         2         3         4\n",
       "Gender Discount                                        \n",
       "m      False     4.492509  4.558958  4.489759  4.498139\n",
       "       True      6.027630  5.960746  6.037267  5.937916\n",
       "w      False     4.143444  4.126595  4.088148  4.120870\n",
       "       True      5.615603  5.727745  5.718091  5.663191"
      ]
     },
     "execution_count": 27,
     "metadata": {},
     "output_type": "execute_result"
    }
   ],
   "source": [
    "df.pivot_table(index=[\"Gender\", \"Discount\"], columns=\"Region\", values=\"NoProducts\", aggfunc=\"mean\")"
   ]
  },
  {
   "cell_type": "markdown",
   "metadata": {},
   "source": [
    "Also, buying habits is changing and people are buying more when goods is discounted. "
   ]
  },
  {
   "cell_type": "code",
   "execution_count": 28,
   "metadata": {},
   "outputs": [
    {
     "data": {
      "text/html": [
       "<div>\n",
       "<style scoped>\n",
       "    .dataframe tbody tr th:only-of-type {\n",
       "        vertical-align: middle;\n",
       "    }\n",
       "\n",
       "    .dataframe tbody tr th {\n",
       "        vertical-align: top;\n",
       "    }\n",
       "\n",
       "    .dataframe thead th {\n",
       "        text-align: right;\n",
       "    }\n",
       "</style>\n",
       "<table border=\"1\" class=\"dataframe\">\n",
       "  <thead>\n",
       "    <tr style=\"text-align: right;\">\n",
       "      <th></th>\n",
       "      <th>Region</th>\n",
       "      <th>1</th>\n",
       "      <th>2</th>\n",
       "      <th>3</th>\n",
       "      <th>4</th>\n",
       "    </tr>\n",
       "    <tr>\n",
       "      <th>Gender</th>\n",
       "      <th>Discount</th>\n",
       "      <th></th>\n",
       "      <th></th>\n",
       "      <th></th>\n",
       "      <th></th>\n",
       "    </tr>\n",
       "  </thead>\n",
       "  <tbody>\n",
       "    <tr>\n",
       "      <th rowspan=\"2\" valign=\"top\">m</th>\n",
       "      <th>False</th>\n",
       "      <td>2.643586e+06</td>\n",
       "      <td>1.852897e+06</td>\n",
       "      <td>1.111078e+06</td>\n",
       "      <td>2.765022e+06</td>\n",
       "    </tr>\n",
       "    <tr>\n",
       "      <th>True</th>\n",
       "      <td>3.640556e+05</td>\n",
       "      <td>2.723367e+05</td>\n",
       "      <td>1.783650e+05</td>\n",
       "      <td>3.940831e+05</td>\n",
       "    </tr>\n",
       "    <tr>\n",
       "      <th rowspan=\"2\" valign=\"top\">w</th>\n",
       "      <th>False</th>\n",
       "      <td>3.718261e+06</td>\n",
       "      <td>2.604047e+06</td>\n",
       "      <td>1.543350e+06</td>\n",
       "      <td>3.905419e+06</td>\n",
       "    </tr>\n",
       "    <tr>\n",
       "      <th>True</th>\n",
       "      <td>5.316971e+05</td>\n",
       "      <td>4.076982e+05</td>\n",
       "      <td>2.429539e+05</td>\n",
       "      <td>6.154056e+05</td>\n",
       "    </tr>\n",
       "  </tbody>\n",
       "</table>\n",
       "</div>"
      ],
      "text/plain": [
       "Region                      1             2             3             4\n",
       "Gender Discount                                                        \n",
       "m      False     2.643586e+06  1.852897e+06  1.111078e+06  2.765022e+06\n",
       "       True      3.640556e+05  2.723367e+05  1.783650e+05  3.940831e+05\n",
       "w      False     3.718261e+06  2.604047e+06  1.543350e+06  3.905419e+06\n",
       "       True      5.316971e+05  4.076982e+05  2.429539e+05  6.154056e+05"
      ]
     },
     "execution_count": 28,
     "metadata": {},
     "output_type": "execute_result"
    }
   ],
   "source": [
    "df.pivot_table(index=[\"Gender\", \"Discount\"], columns=\"Region\", values=\"Revenue\", aggfunc=\"sum\")"
   ]
  },
  {
   "cell_type": "markdown",
   "metadata": {},
   "source": [
    "So, increase in average sales of discounted goods are causing higer revenue."
   ]
  },
  {
   "cell_type": "markdown",
   "metadata": {},
   "source": [
    "-I reached enough information about purchase habits of people and gender is playing important role due to buying. Also, purchase habits differ between regions. Another assumption is that, high advertsiting has great impact on sales. Furthermorei people love discount and their average purchase increase at that time. Finally, E-Fashion is earning more and more.  \n",
    "-I looked revenue and sales but I also wonder which delivery company is the best one?"
   ]
  },
  {
   "cell_type": "code",
   "execution_count": 29,
   "metadata": {},
   "outputs": [
    {
     "data": {
      "text/html": [
       "<div>\n",
       "<style scoped>\n",
       "    .dataframe tbody tr th:only-of-type {\n",
       "        vertical-align: middle;\n",
       "    }\n",
       "\n",
       "    .dataframe tbody tr th {\n",
       "        vertical-align: top;\n",
       "    }\n",
       "\n",
       "    .dataframe thead th {\n",
       "        text-align: right;\n",
       "    }\n",
       "</style>\n",
       "<table border=\"1\" class=\"dataframe\">\n",
       "  <thead>\n",
       "    <tr style=\"text-align: right;\">\n",
       "      <th></th>\n",
       "      <th>Rating_DeliveryComp</th>\n",
       "    </tr>\n",
       "    <tr>\n",
       "      <th>DeliveryComp</th>\n",
       "      <th></th>\n",
       "    </tr>\n",
       "  </thead>\n",
       "  <tbody>\n",
       "    <tr>\n",
       "      <th>DHL</th>\n",
       "      <td>3.748211</td>\n",
       "    </tr>\n",
       "    <tr>\n",
       "      <th>EFashion Own</th>\n",
       "      <td>2.490806</td>\n",
       "    </tr>\n",
       "    <tr>\n",
       "      <th>Hermes</th>\n",
       "      <td>2.990623</td>\n",
       "    </tr>\n",
       "  </tbody>\n",
       "</table>\n",
       "</div>"
      ],
      "text/plain": [
       "              Rating_DeliveryComp\n",
       "DeliveryComp                     \n",
       "DHL                      3.748211\n",
       "EFashion Own             2.490806\n",
       "Hermes                   2.990623"
      ]
     },
     "execution_count": 29,
     "metadata": {},
     "output_type": "execute_result"
    }
   ],
   "source": [
    "df.pivot_table(index=[\"DeliveryComp\"], values=\"Rating_DeliveryComp\", aggfunc=\"mean\")"
   ]
  },
  {
   "cell_type": "markdown",
   "metadata": {},
   "source": [
    "If we looked average rating of companies, we can easiy see that DHL is by far the most succesful company. How did they succeed it and what kind of reasons does it lie behind that?\n",
    " - First, are they fast?"
   ]
  },
  {
   "cell_type": "code",
   "execution_count": 37,
   "metadata": {},
   "outputs": [
    {
     "data": {
      "text/html": [
       "<div>\n",
       "<style scoped>\n",
       "    .dataframe tbody tr th:only-of-type {\n",
       "        vertical-align: middle;\n",
       "    }\n",
       "\n",
       "    .dataframe tbody tr th {\n",
       "        vertical-align: top;\n",
       "    }\n",
       "\n",
       "    .dataframe thead th {\n",
       "        text-align: right;\n",
       "    }\n",
       "</style>\n",
       "<table border=\"1\" class=\"dataframe\">\n",
       "  <thead>\n",
       "    <tr style=\"text-align: right;\">\n",
       "      <th></th>\n",
       "      <th></th>\n",
       "      <th>DeliveryTime</th>\n",
       "    </tr>\n",
       "    <tr>\n",
       "      <th>DeliveryComp</th>\n",
       "      <th>Rain</th>\n",
       "      <th></th>\n",
       "    </tr>\n",
       "  </thead>\n",
       "  <tbody>\n",
       "    <tr>\n",
       "      <th rowspan=\"2\" valign=\"top\">DHL</th>\n",
       "      <th>False</th>\n",
       "      <td>35.012352</td>\n",
       "    </tr>\n",
       "    <tr>\n",
       "      <th>True</th>\n",
       "      <td>35.017109</td>\n",
       "    </tr>\n",
       "    <tr>\n",
       "      <th rowspan=\"2\" valign=\"top\">EFashion Own</th>\n",
       "      <th>False</th>\n",
       "      <td>30.984479</td>\n",
       "    </tr>\n",
       "    <tr>\n",
       "      <th>True</th>\n",
       "      <td>31.014440</td>\n",
       "    </tr>\n",
       "    <tr>\n",
       "      <th rowspan=\"2\" valign=\"top\">Hermes</th>\n",
       "      <th>False</th>\n",
       "      <td>39.991125</td>\n",
       "    </tr>\n",
       "    <tr>\n",
       "      <th>True</th>\n",
       "      <td>40.009905</td>\n",
       "    </tr>\n",
       "  </tbody>\n",
       "</table>\n",
       "</div>"
      ],
      "text/plain": [
       "                    DeliveryTime\n",
       "DeliveryComp Rain               \n",
       "DHL          False     35.012352\n",
       "             True      35.017109\n",
       "EFashion Own False     30.984479\n",
       "             True      31.014440\n",
       "Hermes       False     39.991125\n",
       "             True      40.009905"
      ]
     },
     "execution_count": 37,
     "metadata": {},
     "output_type": "execute_result"
    }
   ],
   "source": [
    "df.pivot_table(index=[\"DeliveryComp\", \"Rain\"], values=\"DeliveryTime\", aggfunc=\"mean\")"
   ]
  },
  {
   "cell_type": "markdown",
   "metadata": {},
   "source": [
    "As we see, they are not fast enough E-Fashion own delivery company. I also mentioned it at begining of analysis. Delivery time is not the most important thing to given higher ratings. In my opinion, according to correlation heat map, customer satisfaction is more important than delivery time. For getting result, I am going to test my hypothesis."
   ]
  },
  {
   "cell_type": "code",
   "execution_count": 31,
   "metadata": {},
   "outputs": [
    {
     "data": {
      "text/html": [
       "<table class=\"simpletable\">\n",
       "<caption>OLS Regression Results</caption>\n",
       "<tr>\n",
       "  <th>Dep. Variable:</th>    <td>Rating_DeliveryComp</td> <th>  R-squared:         </th>  <td>   1.000</td> \n",
       "</tr>\n",
       "<tr>\n",
       "  <th>Model:</th>                    <td>OLS</td>         <th>  Adj. R-squared:    </th>  <td>   1.000</td> \n",
       "</tr>\n",
       "<tr>\n",
       "  <th>Method:</th>              <td>Least Squares</td>    <th>  F-statistic:       </th>  <td>1.008e+30</td>\n",
       "</tr>\n",
       "<tr>\n",
       "  <th>Date:</th>              <td>Thu, 03 Dec 2020</td>   <th>  Prob (F-statistic):</th>   <td>  0.00</td>  \n",
       "</tr>\n",
       "<tr>\n",
       "  <th>Time:</th>                  <td>22:28:24</td>       <th>  Log-Likelihood:    </th> <td>2.7552e+06</td>\n",
       "</tr>\n",
       "<tr>\n",
       "  <th>No. Observations:</th>       <td>100000</td>        <th>  AIC:               </th> <td>-5.510e+06</td>\n",
       "</tr>\n",
       "<tr>\n",
       "  <th>Df Residuals:</th>           <td> 99997</td>        <th>  BIC:               </th> <td>-5.510e+06</td>\n",
       "</tr>\n",
       "<tr>\n",
       "  <th>Df Model:</th>               <td>     2</td>        <th>                     </th>      <td> </td>    \n",
       "</tr>\n",
       "<tr>\n",
       "  <th>Covariance Type:</th>       <td>nonrobust</td>      <th>                     </th>      <td> </td>    \n",
       "</tr>\n",
       "</table>\n",
       "<table class=\"simpletable\">\n",
       "<tr>\n",
       "            <td></td>              <th>coef</th>     <th>std err</th>      <th>t</th>      <th>P>|t|</th>  <th>[0.025</th>    <th>0.975]</th>  \n",
       "</tr>\n",
       "<tr>\n",
       "  <th>Intercept</th>            <td>-4.166e-13</td> <td> 8.27e-15</td> <td>  -50.387</td> <td> 0.000</td> <td>-4.33e-13</td> <td>   -4e-13</td>\n",
       "</tr>\n",
       "<tr>\n",
       "  <th>CustomerSatisfaction</th> <td>    0.1000</td> <td> 7.06e-17</td> <td> 1.42e+15</td> <td> 0.000</td> <td>    0.100</td> <td>    0.100</td>\n",
       "</tr>\n",
       "<tr>\n",
       "  <th>DeliveryTime</th>         <td>   -0.1000</td> <td> 2.17e-16</td> <td>-4.61e+14</td> <td> 0.000</td> <td>   -0.100</td> <td>   -0.100</td>\n",
       "</tr>\n",
       "</table>\n",
       "<table class=\"simpletable\">\n",
       "<tr>\n",
       "  <th>Omnibus:</th>       <td>1926.632</td> <th>  Durbin-Watson:     </th> <td>   0.150</td>\n",
       "</tr>\n",
       "<tr>\n",
       "  <th>Prob(Omnibus):</th>  <td> 0.000</td>  <th>  Jarque-Bera (JB):  </th> <td>2255.876</td>\n",
       "</tr>\n",
       "<tr>\n",
       "  <th>Skew:</th>           <td> 0.291</td>  <th>  Prob(JB):          </th> <td>    0.00</td>\n",
       "</tr>\n",
       "<tr>\n",
       "  <th>Kurtosis:</th>       <td> 3.450</td>  <th>  Cond. No.          </th> <td>    795.</td>\n",
       "</tr>\n",
       "</table><br/><br/>Notes:<br/>[1] Standard Errors assume that the covariance matrix of the errors is correctly specified."
      ],
      "text/plain": [
       "<class 'statsmodels.iolib.summary.Summary'>\n",
       "\"\"\"\n",
       "                             OLS Regression Results                            \n",
       "===============================================================================\n",
       "Dep. Variable:     Rating_DeliveryComp   R-squared:                       1.000\n",
       "Model:                             OLS   Adj. R-squared:                  1.000\n",
       "Method:                  Least Squares   F-statistic:                 1.008e+30\n",
       "Date:                 Thu, 03 Dec 2020   Prob (F-statistic):               0.00\n",
       "Time:                         22:28:24   Log-Likelihood:             2.7552e+06\n",
       "No. Observations:               100000   AIC:                        -5.510e+06\n",
       "Df Residuals:                    99997   BIC:                        -5.510e+06\n",
       "Df Model:                            2                                         \n",
       "Covariance Type:             nonrobust                                         \n",
       "========================================================================================\n",
       "                           coef    std err          t      P>|t|      [0.025      0.975]\n",
       "----------------------------------------------------------------------------------------\n",
       "Intercept            -4.166e-13   8.27e-15    -50.387      0.000   -4.33e-13      -4e-13\n",
       "CustomerSatisfaction     0.1000   7.06e-17   1.42e+15      0.000       0.100       0.100\n",
       "DeliveryTime            -0.1000   2.17e-16  -4.61e+14      0.000      -0.100      -0.100\n",
       "==============================================================================\n",
       "Omnibus:                     1926.632   Durbin-Watson:                   0.150\n",
       "Prob(Omnibus):                  0.000   Jarque-Bera (JB):             2255.876\n",
       "Skew:                           0.291   Prob(JB):                         0.00\n",
       "Kurtosis:                       3.450   Cond. No.                         795.\n",
       "==============================================================================\n",
       "\n",
       "Notes:\n",
       "[1] Standard Errors assume that the covariance matrix of the errors is correctly specified.\n",
       "\"\"\""
      ]
     },
     "execution_count": 31,
     "metadata": {},
     "output_type": "execute_result"
    }
   ],
   "source": [
    "y, X = dmatrices(\"Rating_DeliveryComp ~ CustomerSatisfaction + DeliveryTime\", df, return_type=\"dataframe\")\n",
    "ols = sm.OLS(y,X).fit()\n",
    "ols.summary()"
   ]
  },
  {
   "cell_type": "markdown",
   "metadata": {},
   "source": [
    "It was quiet unexpected for me, model is totaly explaining change in ratings. In order to understand which variables has more impact on rating, I must rearrange to compare $\\beta$s."
   ]
  },
  {
   "cell_type": "code",
   "execution_count": 32,
   "metadata": {},
   "outputs": [
    {
     "data": {
      "text/plain": [
       "Intercept              -7.778066e-16\n",
       "CustomerSatisfaction    1.030670e+00\n",
       "DeliveryTime           -3.353173e-01\n",
       "dtype: float64"
      ]
     },
     "execution_count": 32,
     "metadata": {},
     "output_type": "execute_result"
    }
   ],
   "source": [
    "y, X = dmatrices(\"Rating_DeliveryComp ~ CustomerSatisfaction + DeliveryTime\", df, return_type=\"dataframe\")\n",
    "def zscore(x):\n",
    "    return (x - np.mean(x)) / np.std(x)\n",
    "for col in [\"CustomerSatisfaction\", \"DeliveryTime\"]:\n",
    "    X[col] = zscore(X[col])\n",
    "y = zscore(y)\n",
    "ols = sm.OLS(y,X).fit() \n",
    "ols.params"
   ]
  },
  {
   "cell_type": "markdown",
   "metadata": {},
   "source": [
    "I can now compare the coefficients and say that\n",
    "- CustomerSatisfaction has larger affect on rating.\n",
    "\n",
    "In my opinion, if people happy with product, they also give higher rating to delivery company. It means that, the success does not belong to delivery companies, they should create own success story and build up value of company."
   ]
  },
  {
   "cell_type": "markdown",
   "metadata": {},
   "source": [
    "#### Determine Customer Satisfaction\n",
    "Another important question is which variables are playing important role to determine customer satisfaction. \n",
    "Initial problem of building model is choosing significant variables to explain depented variable.  \n",
    "According to my observation, price per prodocts and delivery time is key to determine it. My first model will consider PricePerProduct and DeliveryTime as independent values.  \n",
    "- Modelling to OLS\n",
    "- Control result"
   ]
  },
  {
   "cell_type": "code",
   "execution_count": 176,
   "metadata": {},
   "outputs": [
    {
     "data": {
      "text/html": [
       "<table class=\"simpletable\">\n",
       "<caption>OLS Regression Results</caption>\n",
       "<tr>\n",
       "  <th>Dep. Variable:</th>    <td>CustomerSatisfaction</td> <th>  R-squared:         </th>  <td>   0.440</td>  \n",
       "</tr>\n",
       "<tr>\n",
       "  <th>Model:</th>                     <td>OLS</td>         <th>  Adj. R-squared:    </th>  <td>   0.440</td>  \n",
       "</tr>\n",
       "<tr>\n",
       "  <th>Method:</th>               <td>Least Squares</td>    <th>  F-statistic:       </th>  <td>3.927e+04</td> \n",
       "</tr>\n",
       "<tr>\n",
       "  <th>Date:</th>               <td>Thu, 03 Dec 2020</td>   <th>  Prob (F-statistic):</th>   <td>  0.00</td>   \n",
       "</tr>\n",
       "<tr>\n",
       "  <th>Time:</th>                   <td>23:54:34</td>       <th>  Log-Likelihood:    </th> <td>-3.6244e+05</td>\n",
       "</tr>\n",
       "<tr>\n",
       "  <th>No. Observations:</th>        <td>100000</td>        <th>  AIC:               </th>  <td>7.249e+05</td> \n",
       "</tr>\n",
       "<tr>\n",
       "  <th>Df Residuals:</th>            <td> 99997</td>        <th>  BIC:               </th>  <td>7.249e+05</td> \n",
       "</tr>\n",
       "<tr>\n",
       "  <th>Df Model:</th>                <td>     2</td>        <th>                     </th>      <td> </td>     \n",
       "</tr>\n",
       "<tr>\n",
       "  <th>Covariance Type:</th>        <td>nonrobust</td>      <th>                     </th>      <td> </td>     \n",
       "</tr>\n",
       "</table>\n",
       "<table class=\"simpletable\">\n",
       "<tr>\n",
       "         <td></td>            <th>coef</th>     <th>std err</th>      <th>t</th>      <th>P>|t|</th>  <th>[0.025</th>    <th>0.975]</th>  \n",
       "</tr>\n",
       "<tr>\n",
       "  <th>Intercept</th>       <td>   39.1516</td> <td>    0.268</td> <td>  146.054</td> <td> 0.000</td> <td>   38.626</td> <td>   39.677</td>\n",
       "</tr>\n",
       "<tr>\n",
       "  <th>PricePerProduct</th> <td>    0.2896</td> <td>    0.001</td> <td>  259.106</td> <td> 0.000</td> <td>    0.287</td> <td>    0.292</td>\n",
       "</tr>\n",
       "<tr>\n",
       "  <th>DeliveryTime</th>    <td>    0.4244</td> <td>    0.007</td> <td>   57.345</td> <td> 0.000</td> <td>    0.410</td> <td>    0.439</td>\n",
       "</tr>\n",
       "</table>\n",
       "<table class=\"simpletable\">\n",
       "<tr>\n",
       "  <th>Omnibus:</th>       <td>10463.201</td> <th>  Durbin-Watson:     </th> <td>   2.006</td> \n",
       "</tr>\n",
       "<tr>\n",
       "  <th>Prob(Omnibus):</th>  <td> 0.000</td>   <th>  Jarque-Bera (JB):  </th> <td>14046.743</td>\n",
       "</tr>\n",
       "<tr>\n",
       "  <th>Skew:</th>           <td>-0.901</td>   <th>  Prob(JB):          </th> <td>    0.00</td> \n",
       "</tr>\n",
       "<tr>\n",
       "  <th>Kurtosis:</th>       <td> 3.347</td>   <th>  Cond. No.          </th> <td>    632.</td> \n",
       "</tr>\n",
       "</table><br/><br/>Notes:<br/>[1] Standard Errors assume that the covariance matrix of the errors is correctly specified."
      ],
      "text/plain": [
       "<class 'statsmodels.iolib.summary.Summary'>\n",
       "\"\"\"\n",
       "                             OLS Regression Results                             \n",
       "================================================================================\n",
       "Dep. Variable:     CustomerSatisfaction   R-squared:                       0.440\n",
       "Model:                              OLS   Adj. R-squared:                  0.440\n",
       "Method:                   Least Squares   F-statistic:                 3.927e+04\n",
       "Date:                  Thu, 03 Dec 2020   Prob (F-statistic):               0.00\n",
       "Time:                          23:54:34   Log-Likelihood:            -3.6244e+05\n",
       "No. Observations:                100000   AIC:                         7.249e+05\n",
       "Df Residuals:                     99997   BIC:                         7.249e+05\n",
       "Df Model:                             2                                         \n",
       "Covariance Type:              nonrobust                                         \n",
       "===================================================================================\n",
       "                      coef    std err          t      P>|t|      [0.025      0.975]\n",
       "-----------------------------------------------------------------------------------\n",
       "Intercept          39.1516      0.268    146.054      0.000      38.626      39.677\n",
       "PricePerProduct     0.2896      0.001    259.106      0.000       0.287       0.292\n",
       "DeliveryTime        0.4244      0.007     57.345      0.000       0.410       0.439\n",
       "==============================================================================\n",
       "Omnibus:                    10463.201   Durbin-Watson:                   2.006\n",
       "Prob(Omnibus):                  0.000   Jarque-Bera (JB):            14046.743\n",
       "Skew:                          -0.901   Prob(JB):                         0.00\n",
       "Kurtosis:                       3.347   Cond. No.                         632.\n",
       "==============================================================================\n",
       "\n",
       "Notes:\n",
       "[1] Standard Errors assume that the covariance matrix of the errors is correctly specified.\n",
       "\"\"\""
      ]
     },
     "execution_count": 176,
     "metadata": {},
     "output_type": "execute_result"
    }
   ],
   "source": [
    "y, X = dmatrices(\"CustomerSatisfaction ~ PricePerProduct + DeliveryTime \", df, return_type=\"dataframe\")\n",
    "ols = sm.OLS(y,X).fit()\n",
    "ols.summary()"
   ]
  },
  {
   "cell_type": "markdown",
   "metadata": {},
   "source": [
    "Model is not good enough to explain change in customer satisfaction.\n",
    "I am goint to try different dataframe to undestand customer satisfaction.\n",
    "First, in our dataset contains to many entries. I will try to make a group with my variables."
   ]
  },
  {
   "cell_type": "code",
   "execution_count": 182,
   "metadata": {},
   "outputs": [
    {
     "data": {
      "text/html": [
       "<div>\n",
       "<style scoped>\n",
       "    .dataframe tbody tr th:only-of-type {\n",
       "        vertical-align: middle;\n",
       "    }\n",
       "\n",
       "    .dataframe tbody tr th {\n",
       "        vertical-align: top;\n",
       "    }\n",
       "\n",
       "    .dataframe thead th {\n",
       "        text-align: right;\n",
       "    }\n",
       "</style>\n",
       "<table border=\"1\" class=\"dataframe\">\n",
       "  <thead>\n",
       "    <tr style=\"text-align: right;\">\n",
       "      <th></th>\n",
       "      <th>CustomerSatisfaction</th>\n",
       "      <th>DeliveryTime</th>\n",
       "      <th>PricePerProduct</th>\n",
       "    </tr>\n",
       "  </thead>\n",
       "  <tbody>\n",
       "    <tr>\n",
       "      <th>0</th>\n",
       "      <td>(39.937, 41.26]</td>\n",
       "      <td>30.519881</td>\n",
       "      <td>36.951093</td>\n",
       "    </tr>\n",
       "    <tr>\n",
       "      <th>1</th>\n",
       "      <td>(41.26, 42.52]</td>\n",
       "      <td>32.000000</td>\n",
       "      <td>36.928083</td>\n",
       "    </tr>\n",
       "    <tr>\n",
       "      <th>2</th>\n",
       "      <td>(42.52, 43.78]</td>\n",
       "      <td>33.000000</td>\n",
       "      <td>36.831830</td>\n",
       "    </tr>\n",
       "    <tr>\n",
       "      <th>3</th>\n",
       "      <td>(43.78, 45.04]</td>\n",
       "      <td>34.508282</td>\n",
       "      <td>37.301933</td>\n",
       "    </tr>\n",
       "    <tr>\n",
       "      <th>4</th>\n",
       "      <td>(45.04, 46.3]</td>\n",
       "      <td>36.000000</td>\n",
       "      <td>37.088373</td>\n",
       "    </tr>\n",
       "  </tbody>\n",
       "</table>\n",
       "</div>"
      ],
      "text/plain": [
       "  CustomerSatisfaction  DeliveryTime  PricePerProduct\n",
       "0      (39.937, 41.26]     30.519881        36.951093\n",
       "1       (41.26, 42.52]     32.000000        36.928083\n",
       "2       (42.52, 43.78]     33.000000        36.831830\n",
       "3       (43.78, 45.04]     34.508282        37.301933\n",
       "4        (45.04, 46.3]     36.000000        37.088373"
      ]
     },
     "execution_count": 182,
     "metadata": {},
     "output_type": "execute_result"
    }
   ],
   "source": [
    "test_df = pd.DataFrame()\n",
    "test_df['CustomerSatisfaction'] = pd.cut(df['CustomerSatisfaction'], 50)\n",
    "test_df[\"DeliveryTime\"] = df[\"DeliveryTime\"]\n",
    "test_df[\"PricePerProduct\"] = df[\"PricePerProduct\"]\n",
    "deneme = test_df.groupby(['CustomerSatisfaction'], as_index=False).mean().sort_values(by='CustomerSatisfaction', ascending=True)\n",
    "deneme.head()"
   ]
  },
  {
   "cell_type": "markdown",
   "metadata": {},
   "source": [
    "I created a new dataframe, it includes interval instead of exact number. Every interval consist of 1.26 point of satisfaciton. I believe it would be more easier to workout."
   ]
  },
  {
   "cell_type": "code",
   "execution_count": 183,
   "metadata": {},
   "outputs": [
    {
     "data": {
      "text/html": [
       "<div>\n",
       "<style scoped>\n",
       "    .dataframe tbody tr th:only-of-type {\n",
       "        vertical-align: middle;\n",
       "    }\n",
       "\n",
       "    .dataframe tbody tr th {\n",
       "        vertical-align: top;\n",
       "    }\n",
       "\n",
       "    .dataframe thead th {\n",
       "        text-align: right;\n",
       "    }\n",
       "</style>\n",
       "<table border=\"1\" class=\"dataframe\">\n",
       "  <thead>\n",
       "    <tr style=\"text-align: right;\">\n",
       "      <th></th>\n",
       "      <th>CustomerSatisfaction</th>\n",
       "      <th>DeliveryTime</th>\n",
       "      <th>PricePerProduct</th>\n",
       "      <th>CustomerSatisfaction_n</th>\n",
       "    </tr>\n",
       "  </thead>\n",
       "  <tbody>\n",
       "    <tr>\n",
       "      <th>0</th>\n",
       "      <td>(39.937, 41.26]</td>\n",
       "      <td>30.519881</td>\n",
       "      <td>36.951093</td>\n",
       "      <td>0</td>\n",
       "    </tr>\n",
       "    <tr>\n",
       "      <th>1</th>\n",
       "      <td>(41.26, 42.52]</td>\n",
       "      <td>32.000000</td>\n",
       "      <td>36.928083</td>\n",
       "      <td>1</td>\n",
       "    </tr>\n",
       "    <tr>\n",
       "      <th>2</th>\n",
       "      <td>(42.52, 43.78]</td>\n",
       "      <td>33.000000</td>\n",
       "      <td>36.831830</td>\n",
       "      <td>2</td>\n",
       "    </tr>\n",
       "    <tr>\n",
       "      <th>3</th>\n",
       "      <td>(43.78, 45.04]</td>\n",
       "      <td>34.508282</td>\n",
       "      <td>37.301933</td>\n",
       "      <td>3</td>\n",
       "    </tr>\n",
       "    <tr>\n",
       "      <th>4</th>\n",
       "      <td>(45.04, 46.3]</td>\n",
       "      <td>36.000000</td>\n",
       "      <td>37.088373</td>\n",
       "      <td>4</td>\n",
       "    </tr>\n",
       "  </tbody>\n",
       "</table>\n",
       "</div>"
      ],
      "text/plain": [
       "  CustomerSatisfaction  DeliveryTime  PricePerProduct  CustomerSatisfaction_n\n",
       "0      (39.937, 41.26]     30.519881        36.951093                       0\n",
       "1       (41.26, 42.52]     32.000000        36.928083                       1\n",
       "2       (42.52, 43.78]     33.000000        36.831830                       2\n",
       "3       (43.78, 45.04]     34.508282        37.301933                       3\n",
       "4        (45.04, 46.3]     36.000000        37.088373                       4"
      ]
     },
     "execution_count": 183,
     "metadata": {},
     "output_type": "execute_result"
    }
   ],
   "source": [
    "deneme[\"CustomerSatisfaction_n\"] = pd.DataFrame(range(50))\n",
    "deneme.head()"
   ]
  },
  {
   "cell_type": "code",
   "execution_count": 184,
   "metadata": {},
   "outputs": [
    {
     "data": {
      "text/html": [
       "<table class=\"simpletable\">\n",
       "<caption>OLS Regression Results</caption>\n",
       "<tr>\n",
       "  <th>Dep. Variable:</th>    <td>CustomerSatisfaction_n</td> <th>  R-squared:         </th> <td>   0.823</td>\n",
       "</tr>\n",
       "<tr>\n",
       "  <th>Model:</th>                      <td>OLS</td>          <th>  Adj. R-squared:    </th> <td>   0.816</td>\n",
       "</tr>\n",
       "<tr>\n",
       "  <th>Method:</th>                <td>Least Squares</td>     <th>  F-statistic:       </th> <td>   109.6</td>\n",
       "</tr>\n",
       "<tr>\n",
       "  <th>Date:</th>                <td>Thu, 03 Dec 2020</td>    <th>  Prob (F-statistic):</th> <td>2.01e-18</td>\n",
       "</tr>\n",
       "<tr>\n",
       "  <th>Time:</th>                    <td>23:58:14</td>        <th>  Log-Likelihood:    </th> <td> -161.07</td>\n",
       "</tr>\n",
       "<tr>\n",
       "  <th>No. Observations:</th>         <td>    50</td>         <th>  AIC:               </th> <td>   328.1</td>\n",
       "</tr>\n",
       "<tr>\n",
       "  <th>Df Residuals:</th>             <td>    47</td>         <th>  BIC:               </th> <td>   333.9</td>\n",
       "</tr>\n",
       "<tr>\n",
       "  <th>Df Model:</th>                 <td>     2</td>         <th>                     </th>     <td> </td>   \n",
       "</tr>\n",
       "<tr>\n",
       "  <th>Covariance Type:</th>         <td>nonrobust</td>       <th>                     </th>     <td> </td>   \n",
       "</tr>\n",
       "</table>\n",
       "<table class=\"simpletable\">\n",
       "<tr>\n",
       "         <td></td>            <th>coef</th>     <th>std err</th>      <th>t</th>      <th>P>|t|</th>  <th>[0.025</th>    <th>0.975]</th>  \n",
       "</tr>\n",
       "<tr>\n",
       "  <th>Intercept</th>       <td>  -33.5548</td> <td>    8.563</td> <td>   -3.918</td> <td> 0.000</td> <td>  -50.782</td> <td>  -16.328</td>\n",
       "</tr>\n",
       "<tr>\n",
       "  <th>DeliveryTime</th>    <td>    0.9800</td> <td>    0.260</td> <td>    3.766</td> <td> 0.000</td> <td>    0.456</td> <td>    1.504</td>\n",
       "</tr>\n",
       "<tr>\n",
       "  <th>PricePerProduct</th> <td>    0.3287</td> <td>    0.041</td> <td>    7.933</td> <td> 0.000</td> <td>    0.245</td> <td>    0.412</td>\n",
       "</tr>\n",
       "</table>\n",
       "<table class=\"simpletable\">\n",
       "<tr>\n",
       "  <th>Omnibus:</th>       <td> 0.749</td> <th>  Durbin-Watson:     </th> <td>   0.185</td>\n",
       "</tr>\n",
       "<tr>\n",
       "  <th>Prob(Omnibus):</th> <td> 0.688</td> <th>  Jarque-Bera (JB):  </th> <td>   0.793</td>\n",
       "</tr>\n",
       "<tr>\n",
       "  <th>Skew:</th>          <td> 0.268</td> <th>  Prob(JB):          </th> <td>   0.673</td>\n",
       "</tr>\n",
       "<tr>\n",
       "  <th>Kurtosis:</th>      <td> 2.695</td> <th>  Cond. No.          </th> <td>    750.</td>\n",
       "</tr>\n",
       "</table><br/><br/>Notes:<br/>[1] Standard Errors assume that the covariance matrix of the errors is correctly specified."
      ],
      "text/plain": [
       "<class 'statsmodels.iolib.summary.Summary'>\n",
       "\"\"\"\n",
       "                              OLS Regression Results                              \n",
       "==================================================================================\n",
       "Dep. Variable:     CustomerSatisfaction_n   R-squared:                       0.823\n",
       "Model:                                OLS   Adj. R-squared:                  0.816\n",
       "Method:                     Least Squares   F-statistic:                     109.6\n",
       "Date:                    Thu, 03 Dec 2020   Prob (F-statistic):           2.01e-18\n",
       "Time:                            23:58:14   Log-Likelihood:                -161.07\n",
       "No. Observations:                      50   AIC:                             328.1\n",
       "Df Residuals:                          47   BIC:                             333.9\n",
       "Df Model:                               2                                         \n",
       "Covariance Type:                nonrobust                                         \n",
       "===================================================================================\n",
       "                      coef    std err          t      P>|t|      [0.025      0.975]\n",
       "-----------------------------------------------------------------------------------\n",
       "Intercept         -33.5548      8.563     -3.918      0.000     -50.782     -16.328\n",
       "DeliveryTime        0.9800      0.260      3.766      0.000       0.456       1.504\n",
       "PricePerProduct     0.3287      0.041      7.933      0.000       0.245       0.412\n",
       "==============================================================================\n",
       "Omnibus:                        0.749   Durbin-Watson:                   0.185\n",
       "Prob(Omnibus):                  0.688   Jarque-Bera (JB):                0.793\n",
       "Skew:                           0.268   Prob(JB):                        0.673\n",
       "Kurtosis:                       2.695   Cond. No.                         750.\n",
       "==============================================================================\n",
       "\n",
       "Notes:\n",
       "[1] Standard Errors assume that the covariance matrix of the errors is correctly specified.\n",
       "\"\"\""
      ]
     },
     "execution_count": 184,
     "metadata": {},
     "output_type": "execute_result"
    }
   ],
   "source": [
    "y, X = dmatrices(\"CustomerSatisfaction_n ~  DeliveryTime + PricePerProduct \", deneme, return_type=\"dataframe\")\n",
    "ols = sm.OLS(y,X).fit()\n",
    "ols.summary()"
   ]
  },
  {
   "cell_type": "markdown",
   "metadata": {},
   "source": [
    "My model rapidly boosted to more accurate model, In that model, DeliveryTime and PricePerProduct explain 82.3% of model and probabilities of each variables rejected null hypothesis, so they are significant."
   ]
  }
 ],
 "metadata": {
  "kernelspec": {
   "display_name": "Python 3",
   "language": "python",
   "name": "python3"
  },
  "language_info": {
   "codemirror_mode": {
    "name": "ipython",
    "version": 3
   },
   "file_extension": ".py",
   "mimetype": "text/x-python",
   "name": "python",
   "nbconvert_exporter": "python",
   "pygments_lexer": "ipython3",
   "version": "3.8.5"
  }
 },
 "nbformat": 4,
 "nbformat_minor": 4
}
